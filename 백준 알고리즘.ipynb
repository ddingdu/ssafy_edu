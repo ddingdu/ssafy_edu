{
 "cells": [
  {
   "cell_type": "code",
   "execution_count": 16,
   "metadata": {},
   "outputs": [
    {
     "name": "stdout",
     "output_type": "stream",
     "text": [
      "12000\n"
     ]
    }
   ],
   "source": [
    "# 1/18(수) 2480번 주사위 세개\n",
    "\n",
    "dice_a, dice_b, dice_c = map(int,input().split())\n",
    "\n",
    "if dice_a == dice_b == dice_c:\n",
    "    prize = 10000 + (dice_a * 1000)\n",
    "    print(prize) \n",
    "elif dice_a == dice_b or dice_a == dice_c:\n",
    "    prize = 1000 + (dice_a * 100)\n",
    "    print(prize)\n",
    "elif dice_b == dice_c:\n",
    "    prize = 1000 + (dice_b * 100)\n",
    "    print(prize)\n",
    "else:\n",
    "    prize = max(dice_a, dice_b, dice_c) * 100\n",
    "    print(prize)    "
   ]
  }
 ],
 "metadata": {
  "kernelspec": {
   "display_name": "Python 3",
   "language": "python",
   "name": "python3"
  },
  "language_info": {
   "codemirror_mode": {
    "name": "ipython",
    "version": 3
   },
   "file_extension": ".py",
   "mimetype": "text/x-python",
   "name": "python",
   "nbconvert_exporter": "python",
   "pygments_lexer": "ipython3",
   "version": "3.9.12 (tags/v3.9.12:b28265d, Mar 23 2022, 23:52:46) [MSC v.1929 64 bit (AMD64)]"
  },
  "orig_nbformat": 4,
  "vscode": {
   "interpreter": {
    "hash": "c4b9ebf4ca459396e2ad1150752490c26670c1a037c08cad955a4425787bec2e"
   }
  }
 },
 "nbformat": 4,
 "nbformat_minor": 2
}
