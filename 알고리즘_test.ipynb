{
 "cells": [
  {
   "cell_type": "code",
   "execution_count": null,
   "metadata": {},
   "outputs": [],
   "source": [
    "# SWEA 1206\n",
    "\n",
    "T = 10 # 대문자 상수\n",
    "for tc in range(1, T+1):\n",
    "    N = int(input())\n",
    "    arr = list(map(int, input().split()))\n",
    "    ans = 0\n",
    "\n",
    "    # 2 ~ N-2 각각 검사해서\n",
    "    for i in range(2, N-2):\n",
    "        min_value = 987654321\n",
    "        # 기준 건물과 왼쪽 오른쪽 2개 차의 최소값\n",
    "        for j in range(5):\n",
    "            if j != 2:\n",
    "                if arr[i] - arr[i-2+j] < min_value:\n",
    "                    min_value = arr[i] - arr[i-2+j]\n",
    "        # 최소값이 양수이면 조망권이 확보\n",
    "        if min_value > 0 :\n",
    "            ans += min_value\n",
    "    print(\"#{} {}\".format(tc, ans))"
   ]
  },
  {
   "cell_type": "code",
   "execution_count": null,
   "metadata": {},
   "outputs": [],
   "source": [
    "T = 10\n",
    "\n",
    "for tc in range(1, T+1):\n",
    "\n",
    "    N = int(input())\n",
    "    b_ls = list(map(int, input().split()))\n",
    "\n",
    "    cnt = 0\n",
    "\n",
    "    # 1층 기준\n",
    "    for i in range(2,N-1):\n",
    "        if b_ls[i] - b_ls[i+2] >= 2 and b_ls[i] - b_ls[i-2]:\n",
    "            cnt += 1\n",
    "\n",
    "print(f\"#{tc} {cnt}\")"
   ]
  },
  {
   "cell_type": "code",
   "execution_count": null,
   "metadata": {},
   "outputs": [],
   "source": [
    "number = input()\n",
    "a = []\n",
    "for i in str(number):\n",
    "    a.append(i)\n",
    "\n",
    "print(a)"
   ]
  },
  {
   "cell_type": "code",
   "execution_count": 1,
   "metadata": {},
   "outputs": [
    {
     "name": "stdout",
     "output_type": "stream",
     "text": [
      "9 8\n",
      "1 2\n"
     ]
    }
   ],
   "source": [
    "# 5 8 3 1 5 6 9 9 2 2 4\n",
    "boxes = list(map(int, input().split()))\n",
    "\n",
    "\n",
    "max_b = 0\n",
    "min_b = 999999\n",
    "\n",
    "# high_b = 0\n",
    "# low_b = 0\n",
    "\n",
    "# 제일 큰 수 찾고 -1 저장\n",
    "for i in range(len(boxes)):\n",
    "    if boxes[i] > max_b:\n",
    "        max_b = boxes[i]\n",
    "        high_b = boxes[i]-1\n",
    "for i in range(len(boxes)):\n",
    "    if boxes[i] < min_b:\n",
    "        min_b = boxes[i]\n",
    "        low_b = boxes[i]+1\n",
    "\n",
    "print(max_b, high_b)\n",
    "print(min_b, low_b)"
   ]
  }
 ],
 "metadata": {
  "kernelspec": {
   "display_name": "Python 3",
   "language": "python",
   "name": "python3"
  },
  "language_info": {
   "codemirror_mode": {
    "name": "ipython",
    "version": 3
   },
   "file_extension": ".py",
   "mimetype": "text/x-python",
   "name": "python",
   "nbconvert_exporter": "python",
   "pygments_lexer": "ipython3",
   "version": "3.9.12"
  },
  "orig_nbformat": 4,
  "vscode": {
   "interpreter": {
    "hash": "c4b9ebf4ca459396e2ad1150752490c26670c1a037c08cad955a4425787bec2e"
   }
  }
 },
 "nbformat": 4,
 "nbformat_minor": 2
}
