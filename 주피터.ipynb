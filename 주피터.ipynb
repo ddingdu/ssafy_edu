{
 "cells": [
  {
   "cell_type": "code",
   "execution_count": 2,
   "metadata": {},
   "outputs": [
    {
     "ename": "SyntaxError",
     "evalue": "invalid syntax (113492206.py, line 3)",
     "output_type": "error",
     "traceback": [
      "\u001b[1;36m  Cell \u001b[1;32mIn[2], line 3\u001b[1;36m\u001b[0m\n\u001b[1;33m    - 주피터 노트북은  REPL(read-eval-print loop)환경, 사용자가 편하게 코드를 작성하고 리뷰할 수 있도록 구성되어 있다.\u001b[0m\n\u001b[1;37m          ^\u001b[0m\n\u001b[1;31mSyntaxError\u001b[0m\u001b[1;31m:\u001b[0m invalid syntax\n"
     ]
    }
   ],
   "source": [
    "## return vs print\n",
    "\n",
    "- 주피터 노트북은  REPL(read-eval-print loop)환경, 사용자가 편하게 코드를 작성하고 리뷰할 수 있도록 구성되어 있다.\n",
    "- 주의해야할 특징은, 마지막으로 작성된 코드의 리턴값을 출력하여 보여준다.\n",
    "- 따라서, 리턴을 하게되면 출력을 해준다 라는 착각을 하게 된다.\n",
    "\n",
    "def my_function():\n",
    "    return \"return!!\"\n",
    "\n",
    "my_function()\n",
    "\n",
    "\n",
    "### 파이썬에서 결과를 콘솔이나 터미널에 출력하려면 출력함수를 사용해야 한다."
   ]
  }
 ],
 "metadata": {
  "kernelspec": {
   "display_name": ".venv",
   "language": "python",
   "name": "python3"
  },
  "language_info": {
   "codemirror_mode": {
    "name": "ipython",
    "version": 3
   },
   "file_extension": ".py",
   "mimetype": "text/x-python",
   "name": "python",
   "nbconvert_exporter": "python",
   "pygments_lexer": "ipython3",
   "version": "3.11.1 (tags/v3.11.1:a7a450f, Dec  6 2022, 19:58:39) [MSC v.1934 64 bit (AMD64)]"
  },
  "orig_nbformat": 4,
  "vscode": {
   "interpreter": {
    "hash": "1207bd7fc5e62717ff817efa19a90bea1a9abfdd78b883cfeaf2804d3b216dfa"
   }
  }
 },
 "nbformat": 4,
 "nbformat_minor": 2
}
