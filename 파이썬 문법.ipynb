{
 "cells": [
  {
   "cell_type": "code",
   "execution_count": 2,
   "metadata": {},
   "outputs": [
    {
     "name": "stdout",
     "output_type": "stream",
     "text": [
      "20 10\n"
     ]
    }
   ],
   "source": [
    "x = 10\n",
    "y = 20\n",
    "\n",
    "temp = x\n",
    "x = y\n",
    "y = temp\n",
    "print(x,y)"
   ]
  },
  {
   "cell_type": "code",
   "execution_count": 5,
   "metadata": {},
   "outputs": [
    {
     "name": "stdout",
     "output_type": "stream",
     "text": [
      "HELLOWORLD\n",
      "HELLOHELLOHELLO\n"
     ]
    }
   ],
   "source": [
    "print(\"HELLO\"+\"WORLD\")\n",
    "print(\"HELLO\"*3)"
   ]
  },
  {
   "cell_type": "code",
   "execution_count": 9,
   "metadata": {},
   "outputs": [
    {
     "name": "stdout",
     "output_type": "stream",
     "text": [
      "아메리카노는 2000원이고 라떼는 4000원 입니다.\n",
      "아메리카노는 2000원이고 라떼는 4000원 입니다.\n"
     ]
    }
   ],
   "source": [
    "ame = 2000\n",
    "latte = 4000\n",
    "\n",
    "# +연산자를 통한 문자열 연결 str() => 문자열로 만들어주는 함수\n",
    "str1 = \"아메리카노는 \" + str(ame) + \"원이고 라떼는 \" + str(latte) + \"원 입니다.\"\n",
    "# f-string 사용\n",
    "str2 = f\"아메리카노는 {ame}원이고 라떼는 {latte}원 입니다.\"\n",
    "\n",
    "print(str1)  \n",
    "print(str2)"
   ]
  },
  {
   "cell_type": "code",
   "execution_count": 20,
   "metadata": {},
   "outputs": [
    {
     "name": "stdout",
     "output_type": "stream",
     "text": [
      "False\n",
      "True\n",
      "False\n"
     ]
    }
   ],
   "source": [
    "print(3 == 4)\n",
    "print(\"3\" != 3)\n",
    "\n",
    "print(\"HI\" == \"Hi\") # 문자 비교할 때는 대소문자도 같아야 같은 값이다"
   ]
  },
  {
   "cell_type": "code",
   "execution_count": 25,
   "metadata": {},
   "outputs": [
    {
     "name": "stdout",
     "output_type": "stream",
     "text": [
      "True\n",
      "False\n",
      "False\n",
      "False\n",
      "===============\n",
      "True\n",
      "False\n",
      "False\n",
      "False\n"
     ]
    }
   ],
   "source": [
    "print( 3 == 3 and 4 == 4 )\n",
    "print( 4 == 3 and 4 == 4 )\n",
    "print( 4 == 4 and 4 == 3 )\n",
    "print( False and False )\n",
    "print(\"===============\")\n",
    "print( True and True )\n",
    "print( True and False )\n",
    "print( False and True )\n",
    "print( False and False )"
   ]
  },
  {
   "cell_type": "code",
   "execution_count": 26,
   "metadata": {},
   "outputs": [
    {
     "name": "stdout",
     "output_type": "stream",
     "text": [
      "5\n",
      "0\n"
     ]
    }
   ],
   "source": [
    "print(3 and 5)\n",
    "print(3 and 0)"
   ]
  },
  {
   "cell_type": "code",
   "execution_count": 30,
   "metadata": {},
   "outputs": [
    {
     "name": "stdout",
     "output_type": "stream",
     "text": [
      "A\n",
      "['apple', 'banana', 'cherry']\n",
      "apple\n",
      "banana\n",
      "cherry\n",
      "b\n",
      "cherry\n"
     ]
    }
   ],
   "source": [
    "my_list = ['A', 'B', ['apple', 'banana', 'cherry']]\n",
    "\n",
    "print(my_list[0])\n",
    "print(my_list[2])\n",
    "\n",
    "print(my_list[2][0])\n",
    "print(my_list[2][1])\n",
    "print(my_list[2][2])\n",
    "\n",
    "print(my_list[-1][1][0])\n",
    "print(my_list[2][-1])"
   ]
  },
  {
   "cell_type": "code",
   "execution_count": 32,
   "metadata": {},
   "outputs": [
    {
     "name": "stdout",
     "output_type": "stream",
     "text": [
      "['a', 'b', 'c']\n"
     ]
    }
   ],
   "source": [
    "my_dict = {\"a\" : \"AAA\", \"b\" : \"BBB\", \"c\" : \"CCC\"}\n",
    "my_list = list(my_dict)\n",
    "\n",
    "print(my_list)"
   ]
  },
  {
   "cell_type": "code",
   "execution_count": 9,
   "metadata": {},
   "outputs": [
    {
     "name": "stdout",
     "output_type": "stream",
     "text": [
      "짝수\n",
      "짝수\n"
     ]
    }
   ],
   "source": [
    "num = int(input('숫자 입력: '))\n",
    "\n",
    "if num % 2 == 0:    #  if num % 2:\n",
    "    print(\"짝수\")\n",
    "else:\n",
    "    print(\"홀수\")\n",
    "\n",
    "# <조건표현식>으로 짝수 / 홀수 구분\n",
    "num = int(input())\n",
    "\n",
    "value = \"짝수\" if num % 2 == 0 else \"홀수\"\n",
    "print(value)"
   ]
  },
  {
   "cell_type": "code",
   "execution_count": 5,
   "metadata": {},
   "outputs": [
    {
     "name": "stdout",
     "output_type": "stream",
     "text": [
      "매우 나쁨\n",
      "실외 활동을 자제하세요.\n"
     ]
    }
   ],
   "source": [
    "dust = 310\n",
    "\n",
    "if dust > 150:\n",
    "    print(\"매우 나쁨\")\n",
    "    if dust > 300:\n",
    "        print(\"실외 활동을 자제하세요.\")\n",
    "elif dust > 80:\n",
    "    print(\"나쁨\")\n",
    "else:\n",
    "    print(\"좋음\")\n"
   ]
  },
  {
   "cell_type": "code",
   "execution_count": 7,
   "metadata": {},
   "outputs": [
    {
     "name": "stdout",
     "output_type": "stream",
     "text": [
      "10\n"
     ]
    }
   ],
   "source": [
    "# <조건 표현식>\n",
    "num = 10\n",
    "\n",
    "value = num if num >= 0 else -num\n",
    "print(value)"
   ]
  },
  {
   "cell_type": "code",
   "execution_count": 23,
   "metadata": {},
   "outputs": [
    {
     "name": "stdout",
     "output_type": "stream",
     "text": [
      "6\n",
      "7\n",
      "8\n",
      "9\n",
      "끝\n"
     ]
    }
   ],
   "source": [
    "a = 6\n",
    "while a > 5:\n",
    "    print(a)\n",
    "    a += 1\n",
    "    if a == 10:\n",
    "        break\n",
    "print('끝')"
   ]
  },
  {
   "cell_type": "code",
   "execution_count": 12,
   "metadata": {},
   "outputs": [
    {
     "name": "stdout",
     "output_type": "stream",
     "text": [
      "0\n",
      "1\n",
      "2\n",
      "3\n",
      "4\n",
      "6\n",
      "7\n",
      "8\n",
      "9\n"
     ]
    }
   ],
   "source": [
    "for num in range(10):\n",
    "    if num == 5:\n",
    "        continue\n",
    "    print(num)"
   ]
  },
  {
   "cell_type": "code",
   "execution_count": 13,
   "metadata": {},
   "outputs": [
    {
     "name": "stdout",
     "output_type": "stream",
     "text": [
      "0\n",
      "1\n",
      "2\n",
      "3\n",
      "4\n"
     ]
    }
   ],
   "source": [
    "for num in range(10):\n",
    "    if num == 5:\n",
    "        break\n",
    "    print(num)"
   ]
  },
  {
   "cell_type": "code",
   "execution_count": 14,
   "metadata": {},
   "outputs": [
    {
     "name": "stdout",
     "output_type": "stream",
     "text": [
      "h\n",
      "a\n",
      "p\n",
      "p\n",
      "y\n"
     ]
    }
   ],
   "source": [
    "chars = input()\n",
    "\n",
    "for char in chars:\n",
    "    print(char)"
   ]
  },
  {
   "cell_type": "code",
   "execution_count": 16,
   "metadata": {},
   "outputs": [
    {
     "name": "stdout",
     "output_type": "stream",
     "text": [
      "h\n",
      "a\n",
      "p\n",
      "p\n",
      "y\n"
     ]
    }
   ],
   "source": [
    "chars = \"happy\"\n",
    "\n",
    "for idx in range(len(chars)):\n",
    "    print(chars[idx])"
   ]
  },
  {
   "cell_type": "code",
   "execution_count": 27,
   "metadata": {},
   "outputs": [
    {
     "name": "stdout",
     "output_type": "stream",
     "text": [
      "apple\n",
      "banana\n",
      "mango\n",
      "끝\n",
      "ee\n",
      "ee\n",
      "ee\n",
      "ee\n",
      "ee\n"
     ]
    }
   ],
   "source": [
    "fruits = ['apple','banana','mango']\n",
    "\n",
    "for fruit in fruits:\n",
    "    print(fruit)\n",
    "print('끝')\n",
    "\n",
    "for _ in range(5):\n",
    "    print(\"ee\")"
   ]
  },
  {
   "cell_type": "code",
   "execution_count": 33,
   "metadata": {},
   "outputs": [
    {
     "name": "stdout",
     "output_type": "stream",
     "text": [
      "[1, 4, 9, 16, 25, 36, 49, 64, 81, 100]\n",
      "[1, 4, 9, 16, 25, 36, 49, 64, 81, 100]\n",
      "[4, 16, 36, 64, 100]\n"
     ]
    }
   ],
   "source": [
    "# 1 부터 10까지 숫자를 제곱해서 리스트 만들기\n",
    "# my_list = [1,4,9,...]\n",
    "\n",
    "my_list = []\n",
    "for i in range(1,11):\n",
    "    my_list.append(i * i)\n",
    "\n",
    "print(my_list)\n",
    "\n",
    "# < List Comprehension >\n",
    "my_list = [num ** 2 for num in range(1,11)]\n",
    "print(my_list)\n",
    "\n",
    "# if로 조건식 추가\n",
    "my_list = [num ** 2 for num in range(1,11) if num % 2 == 0]\n",
    "print(my_list)"
   ]
  },
  {
   "cell_type": "code",
   "execution_count": 35,
   "metadata": {},
   "outputs": [
    {
     "name": "stdout",
     "output_type": "stream",
     "text": [
      "{1: 1, 2: 4, 3: 9, 4: 16, 5: 25, 6: 36, 7: 49, 8: 64, 9: 81, 10: 100}\n",
      "{2: 4, 4: 16, 6: 36, 8: 64, 10: 100}\n"
     ]
    }
   ],
   "source": [
    "# < Dictionary Comprehension >\n",
    "my_dict = {num:num**2 for num in range(1,11)}\n",
    "print(my_dict)\n",
    "\n",
    "my_dict = {num:num**2 for num in range(1,11) if num%2 == 0}\n",
    "print(my_dict)"
   ]
  },
  {
   "cell_type": "code",
   "execution_count": 39,
   "metadata": {},
   "outputs": [
    {
     "name": "stdout",
     "output_type": "stream",
     "text": [
      "0\n",
      "1\n",
      "2\n",
      "0\n",
      "1\n",
      "0과 1만 필요해!\n"
     ]
    }
   ],
   "source": [
    "n = 0\n",
    "while True:\n",
    "    if n == 3:\n",
    "        break\n",
    "    print(n)\n",
    "    n += 1\n",
    "\n",
    "for i in range(10):\n",
    "    if i > 1:\n",
    "        print('0과 1만 필요해!')\n",
    "        break\n",
    "    print(i)"
   ]
  },
  {
   "cell_type": "code",
   "execution_count": 40,
   "metadata": {},
   "outputs": [
    {
     "name": "stdout",
     "output_type": "stream",
     "text": [
      "1\n",
      "3\n",
      "5\n"
     ]
    }
   ],
   "source": [
    "for i in range(6):\n",
    "    if i % 2 == 0:\n",
    "        continue\n",
    "    print(i)"
   ]
  },
  {
   "cell_type": "code",
   "execution_count": 47,
   "metadata": {},
   "outputs": [
    {
     "name": "stdout",
     "output_type": "stream",
     "text": [
      "2 * 1 = 2\n",
      "2 * 2 = 4\n",
      "2 * 3 = 6\n",
      "2 * 4 = 8\n",
      "2 * 6 = 12\n",
      "2 * 7 = 14\n",
      "2 * 8 = 16\n",
      "2 * 9 = 18\n"
     ]
    }
   ],
   "source": [
    "# continue 사용\n",
    "\n",
    "# 2단부터 9단까지 출력\n",
    "# 중간에 5를 곱하는 부분은 빼고 출력\n",
    "\n",
    "# <2단>\n",
    "for num in range(1,10):\n",
    "    if num == 5:\n",
    "        continue\n",
    "    print(f\"2 * {num} = {2*num}\")\n",
    "\n",
    "# \n",
    "for left in range(2,10):\n",
    "    for num in range(1,10):\n",
    "        if num == 5:\n",
    "            continue\n",
    "        print(f\"2 * {num} = {2*num}\")\n",
    "\n"
   ]
  },
  {
   "cell_type": "code",
   "execution_count": 52,
   "metadata": {},
   "outputs": [
    {
     "name": "stdout",
     "output_type": "stream",
     "text": [
      "john 80\n",
      "eric 90\n"
     ]
    }
   ],
   "source": [
    "grades = {'john': 80, 'eric': 90}\n",
    "for a in grades:\n",
    "    print(a,grades[a])\n"
   ]
  },
  {
   "cell_type": "code",
   "execution_count": 3,
   "metadata": {},
   "outputs": [
    {
     "name": "stdout",
     "output_type": "stream",
     "text": [
      "[1, 2, 3, 4]\n"
     ]
    }
   ],
   "source": [
    "my_list = [1,2,3,4]\n",
    "\n",
    "def func1():\n",
    "    my_list = [5,6,7]\n",
    "    # my_list[1] = 5554\n",
    "\n",
    "func1()\n",
    "print(my_list)"
   ]
  },
  {
   "cell_type": "code",
   "execution_count": 4,
   "metadata": {},
   "outputs": [
    {
     "name": "stdout",
     "output_type": "stream",
     "text": [
      "1\n"
     ]
    }
   ],
   "source": [
    "x = 1\n",
    "\n",
    "def func1():\n",
    "    x = 2\n",
    "\n",
    "    def func2():\n",
    "        x = 3\n",
    "\n",
    "    func2()\n",
    "\n",
    "func1()\n",
    "print(x)  "
   ]
  },
  {
   "cell_type": "code",
   "execution_count": 6,
   "metadata": {},
   "outputs": [
    {
     "name": "stdout",
     "output_type": "stream",
     "text": [
      "3\n",
      "3\n",
      "1\n"
     ]
    }
   ],
   "source": [
    "x = 1\n",
    "\n",
    "def func1():\n",
    "    x = 2\n",
    "\n",
    "    def func2():\n",
    "        nonlocal x # 331  # global x : 323\n",
    "        x = 3\n",
    "        print(x)\n",
    "\n",
    "    func2()\n",
    "    print(x)\n",
    "\n",
    "func1()\n",
    "print(x)"
   ]
  },
  {
   "cell_type": "code",
   "execution_count": 1,
   "metadata": {},
   "outputs": [
    {
     "name": "stdout",
     "output_type": "stream",
     "text": [
      "20\n"
     ]
    },
    {
     "ename": "NameError",
     "evalue": "name 'x' is not defined",
     "output_type": "error",
     "traceback": [
      "\u001b[1;31m---------------------------------------------------------------------------\u001b[0m",
      "\u001b[1;31mNameError\u001b[0m                                 Traceback (most recent call last)",
      "Cell \u001b[1;32mIn[1], line 13\u001b[0m\n\u001b[0;32m     10\u001b[0m     \u001b[39mprint\u001b[39m(x)\n\u001b[0;32m     12\u001b[0m func1()\n\u001b[1;32m---> 13\u001b[0m \u001b[39mprint\u001b[39m(x)\n",
      "\u001b[1;31mNameError\u001b[0m: name 'x' is not defined"
     ]
    }
   ],
   "source": [
    "def func1():\n",
    "    x = 10\n",
    "\n",
    "    def func2():\n",
    "        nonlocal x\n",
    "        \n",
    "        x = 20\n",
    "\n",
    "    func2()\n",
    "    print(x)\n",
    "\n",
    "func1()\n",
    "print(x)"
   ]
  },
  {
   "cell_type": "code",
   "execution_count": 5,
   "metadata": {},
   "outputs": [
    {
     "name": "stdout",
     "output_type": "stream",
     "text": [
      "0\n",
      "1\n",
      "1\n",
      "2\n",
      "2\n",
      "3\n",
      "3\n",
      "4\n",
      "4\n",
      "5\n"
     ]
    }
   ],
   "source": [
    "cnt = 0\n",
    "\n",
    "for i in range(5):\n",
    "    cnt += 1\n",
    "    \n",
    "    print(i) #0 1 2 3 4 \n",
    "    print(cnt) # 1 2 3 4 5\n",
    "\n",
    "# 0 1 2 3 4 출력하려면..?\n"
   ]
  },
  {
   "cell_type": "code",
   "execution_count": 5,
   "metadata": {},
   "outputs": [
    {
     "name": "stdout",
     "output_type": "stream",
     "text": [
      "10\n",
      "20\n",
      "20\n",
      "10\n"
     ]
    }
   ],
   "source": [
    "# global\n",
    "\n",
    "v1 = 10\n",
    "\n",
    "def func1():\n",
    "    # func1 의 local\n",
    "    v2 = 20\n",
    "    print(v1)\n",
    "    print(v2)\n",
    "\n",
    "def func2():\n",
    "    # func2 의 local\n",
    "    v3 = 20\n",
    "    print(v3)\n",
    "    print(v1)\n",
    "    # print(v2) : 오류 ! ==> v2는  func1의 변수이기 때문에 사용할 수 없음 !\n",
    "\n",
    "func1()\n",
    "func2()"
   ]
  },
  {
   "cell_type": "code",
   "execution_count": 1,
   "metadata": {},
   "outputs": [
    {
     "name": "stdout",
     "output_type": "stream",
     "text": [
      "<built-in function sum>\n",
      "1\n",
      "5\n"
     ]
    },
    {
     "ename": "TypeError",
     "evalue": "'int' object is not callable",
     "output_type": "error",
     "traceback": [
      "\u001b[1;31m---------------------------------------------------------------------------\u001b[0m",
      "\u001b[1;31mTypeError\u001b[0m                                 Traceback (most recent call last)",
      "Cell \u001b[1;32mIn[1], line 6\u001b[0m\n\u001b[0;32m      4\u001b[0m \u001b[39msum\u001b[39m \u001b[39m=\u001b[39m \u001b[39m5\u001b[39m\n\u001b[0;32m      5\u001b[0m \u001b[39mprint\u001b[39m(\u001b[39msum\u001b[39m)\n\u001b[1;32m----> 6\u001b[0m \u001b[39mprint\u001b[39m(\u001b[39msum\u001b[39;49m(\u001b[39mrange\u001b[39;49m(\u001b[39m2\u001b[39;49m)))\n\u001b[0;32m      8\u001b[0m \u001b[39m# LEGB 예시2\u001b[39;00m\n\u001b[0;32m      9\u001b[0m \u001b[39m# a = 0\u001b[39;00m\n\u001b[0;32m     10\u001b[0m \u001b[39m# b = 1\u001b[39;00m\n\u001b[1;32m   (...)\u001b[0m\n\u001b[0;32m     18\u001b[0m \u001b[39m# enclosed()\u001b[39;00m\n\u001b[0;32m     19\u001b[0m \u001b[39m# print(a, b)\u001b[39;00m\n",
      "\u001b[1;31mTypeError\u001b[0m: 'int' object is not callable"
     ]
    }
   ],
   "source": [
    "# LEGB 예시1\n",
    "print(sum)\n",
    "print(sum(range(2)))\n",
    "sum = 5\n",
    "print(sum)\n",
    "print(sum(range(2)))\n",
    "\n",
    "# LEGB 예시2\n",
    "# a = 0\n",
    "# b = 1\n",
    "# def enclosed():\n",
    "#     a = 10\n",
    "#     c = 3\n",
    "#     def local(c):\n",
    "#         print(a, b, c)\n",
    "#     local(300)\n",
    "#     print(a, b, c)\n",
    "# enclosed()\n",
    "# print(a, b)"
   ]
  },
  {
   "cell_type": "code",
   "execution_count": null,
   "metadata": {},
   "outputs": [],
   "source": [
    "# List 의 List\n",
    "\n",
    "#동서남북\n",
    "dx = [0,0,1,-1]\n",
    "dy = [1,-1,0,0]\n",
    "#상하좌우\n",
    "dx =\n",
    "dy ="
   ]
  },
  {
   "cell_type": "code",
   "execution_count": 11,
   "metadata": {},
   "outputs": [
    {
     "name": "stdout",
     "output_type": "stream",
     "text": [
      "[10, 20, 30, 40, 50]\n",
      "신동민 17\n",
      "서재현 18\n",
      "박영서 22\n"
     ]
    },
    {
     "data": {
      "text/plain": [
       "4"
      ]
     },
     "execution_count": 11,
     "metadata": {},
     "output_type": "execute_result"
    }
   ],
   "source": [
    "# 1/19(목)\n",
    "# 함수 응용 : buil-in function 의 map / zip (7p)\n",
    "\n",
    "# map\n",
    "def my_magic_func(n):\n",
    "    return n * 10\n",
    "\n",
    "my_list = [1, 2, 3, 4, 5]\n",
    "\n",
    "map_obj = map(my_magic_func, my_list)\n",
    "print(list(map_obj))\n",
    "\n",
    "# zip\n",
    "name_list = ['신동민','서재현','박영서']\n",
    "age_list = [17,18,22]\n",
    "\n",
    "for name, age in zip(name_list, age_list):\n",
    "    print(name, age)\n",
    "\n",
    "# lambda\n",
    "\n",
    "# def my_magic_func(n):\n",
    "#     return n * 10\n",
    "\n",
    "map_obj = map(my_magic_func, [1,2,3])\n",
    "rlt = list(map_obj)\n",
    "\n",
    "print(rlt)\n",
    "\n",
    "\n",
    "# (lambda x : x * x)(4)\n",
    "\n",
    "# my_func = lambda n : n * 2\n",
    "# my_func(2)\n",
    "\n",
    "# def pow(x):\n",
    "#     return x * x\n",
    "\n"
   ]
  },
  {
   "cell_type": "code",
   "execution_count": 1,
   "metadata": {},
   "outputs": [
    {
     "ename": "",
     "evalue": "",
     "output_type": "error",
     "traceback": [
      "\u001b[1;31mCanceled future for execute_request message before replies were done"
     ]
    },
    {
     "ename": "",
     "evalue": "",
     "output_type": "error",
     "traceback": [
      "\u001b[1;31m현재 셀 또는 이전 셀에서 코드를 실행하는 동안 Kernel이 충돌했습니다. 셀의 코드를 검토하여 오류의 가능한 원인을 식별하세요. 자세한 내용을 보려면 <a href='https://aka.ms/vscodeJupyterKernelCrash'> 여기 </a> 를 클릭하세요. 자세한 내용은 Jupyter <a href='command:jupyter.viewOutput'>로그</a>를 참조하세요."
     ]
    }
   ],
   "source": [
    "# 재귀함수 : 자기 자신을 호출하는 함수\n",
    "\n",
    "def recur():\n",
    "    print('뿅')\n",
    "    recur()\n",
    "\n",
    "recur()\n",
    "\n",
    "def fac(n):\n",
    "    return n * fac(n-1)\n"
   ]
  },
  {
   "cell_type": "code",
   "execution_count": 2,
   "metadata": {},
   "outputs": [
    {
     "name": "stdout",
     "output_type": "stream",
     "text": [
      "{'name': 'aiden', 'age': 21} <class 'dict'>\n"
     ]
    },
    {
     "data": {
      "text/plain": [
       "{'name': 'aiden', 'age': 21}"
      ]
     },
     "execution_count": 2,
     "metadata": {},
     "output_type": "execute_result"
    }
   ],
   "source": [
    "# # 패킹\n",
    "# a,*b = 1, 2, 3, 4\n",
    "# print(a, b) # 1 (2, 3, 4)\n",
    "\n",
    "# # 언패킹\n",
    "# def my_sum(a, b, c):\n",
    "#     return a + b + c\n",
    "\n",
    "# num_list = [10, 20, 30]\n",
    "\n",
    "# # rlt = my_sum(num_list[0], num_list[1], num_list[2])\n",
    "# rlt = my_sum(*num_list)\n",
    "# print(rlt)  # 60\n",
    "\n",
    "\n",
    "# # 매개 변수를 가변적으로 받을 수 있는 함수를 만들 수 있다. '가변 인자'\n",
    "# def test(*values):\n",
    "#     for value in values:\n",
    "#         print(value)\n",
    "\n",
    "# test(1)\n",
    "# test(1, 2)\n",
    "# test(1, 2, 3, 4)\n",
    "\n",
    "\n",
    "# def my_sum(*args):\n",
    "#     rlt = 0\n",
    "#     for value in args:\n",
    "#         rlt += value\n",
    "#     return rlt\n",
    "\n",
    "# my_sum()    # 0\n",
    "# my_sum(1, 2, 3) # 6\n",
    "\n",
    "# def my_sum(a, *args):   # 한개는 꼭 ~\n",
    "#     rlt = 0\n",
    "#     for value in args:  # agrs = arguments\n",
    "#         rlt += value\n",
    "#     return rlt\n",
    "\n",
    "# # my_sum()    # 에러!\n",
    "# my_sum(1, 2, 3) # 5\n",
    "\n",
    "\n",
    "# def test(**kwargs):\n",
    "#     # print(kwargs, type(kwargs))\n",
    "#     return kwargs\n",
    "\n",
    "# test(name='aiden', age=21)\n",
    "\n",
    "\n",
    "# def test(*args,**kwargs):\n",
    "#     print(kwargs, type(kwargs))\n",
    "#     kwargs['name']\n",
    "#     return kwargs\n",
    "\n",
    "# test(1, 2, 3, 4, name='aiden', age=21)\n"
   ]
  },
  {
   "cell_type": "code",
   "execution_count": 13,
   "metadata": {},
   "outputs": [
    {
     "name": "stdout",
     "output_type": "stream",
     "text": [
      "[1, 3, 2, 4]\n",
      "[2, 1, 4, 3]\n"
     ]
    }
   ],
   "source": [
    "from random import shuffle\n",
    "\n",
    "num_list = [1, 2, 3, 4]\n",
    "shuffle(num_list)\n",
    "print(num_list)\n",
    "\n",
    "\n",
    "import random\n",
    "\n",
    "num_list = [1, 2, 3, 4]\n",
    "random.shuffle(num_list)\n",
    "print(num_list)"
   ]
  },
  {
   "cell_type": "code",
   "execution_count": null,
   "metadata": {},
   "outputs": [],
   "source": [
    "## 가상 환경\n",
    "\n",
    "- 프로젝트마다 다른 실행 환경을 위해서 전역 설정과 독립적인 실행 환경을 생성\n",
    "\n",
    "## 주의해야 할 점 : 꼭 작업 경로를 확인해라\n",
    "\n",
    "### 가상환겯 생성 방법\n",
    "\n",
    "''' \n",
    "python -m venv <폴더이름>\n",
    "'''\n",
    "\n",
    "### 가상환경 활성화 방법 (bash 기준)\n",
    "'''\n",
    "source <폴더이름>/Scripts/activate\n",
    "'''\n",
    "\n",
    "### 환경에서 사용했던 패키지 목록 추출 방법\n",
    "'''\n",
    "pip freeze > <파일이름>\n",
    "'''\n",
    "\n",
    "### 다른 환경에서 패키지 목록 사용해서 설치하기\n",
    "'''\n",
    "pip install -r <파일이름>\n",
    "'''"
   ]
  },
  {
   "cell_type": "code",
   "execution_count": 3,
   "metadata": {},
   "outputs": [
    {
     "name": "stdout",
     "output_type": "stream",
     "text": [
      "char: 9, digit: 3, symbol: 4\n"
     ]
    }
   ],
   "source": [
    "\n",
    "# 주어진 문자열에서 숫자, 문자, 기호가\n",
    "# 각각 몇개인지를 판단하는 함수를 작성해보세요.\n",
    "# 문자 : 9개, 숫자 : 3개, 기호 : 4개\n",
    "\n",
    "def check(input_str):\n",
    "    char_count = 0\n",
    "    digit_count = 0\n",
    "    symbol_count = 0\n",
    "\n",
    "    for char in input_str:\n",
    "        if char.isalpha():\n",
    "            char_count += 1\n",
    "        elif char.isdigit():\n",
    "            digit_count += 1\n",
    "        else:\n",
    "            symbol_count += 1\n",
    "\n",
    "    # return은 하나만 반환할 수 있으므로 묶어서 한꺼번에 반환\n",
    "    return char_count, digit_count, symbol_count\n",
    "\n",
    "input_str = \"123#$%aiden_snow\"\n",
    "# rlt = check(input_str)\n",
    "# print(rlt)\n",
    "\n",
    "char_count, digit_count, symbol_count = check(input_str)\n",
    "print(f\"char: {char_count}, digit: {digit_count}, symbol: {symbol_count}\")\n",
    "\n",
    "\n",
    "\n",
    "# rlt = check(input_str=input_str)\n",
    "# ___ = ___ 키워드로 받는다 ..??  무슨 말 ??\n"
   ]
  },
  {
   "cell_type": "code",
   "execution_count": 4,
   "metadata": {},
   "outputs": [
    {
     "ename": "IndentationError",
     "evalue": "expected an indented block (383550185.py, line 6)",
     "output_type": "error",
     "traceback": [
      "\u001b[1;36m  Cell \u001b[1;32mIn[4], line 6\u001b[1;36m\u001b[0m\n\u001b[1;33m    data = {'aiden':21, '예원':20}\u001b[0m\n\u001b[1;37m                                ^\u001b[0m\n\u001b[1;31mIndentationError\u001b[0m\u001b[1;31m:\u001b[0m expected an indented block\n"
     ]
    }
   ],
   "source": [
    "data_ls = [['aiden', 21], ['예원', 20]]\n",
    "\n",
    "for each in data_ls:\n",
    "    if each[0] == '예원':\n",
    "\n",
    "data = {'aiden':21, '예원':20}\n",
    "\n",
    "data['예원']\n",
    "data.get('예원')"
   ]
  },
  {
   "cell_type": "code",
   "execution_count": 12,
   "metadata": {},
   "outputs": [
    {
     "name": "stdout",
     "output_type": "stream",
     "text": [
      "[11, 22, 33, 55, 66, 77]\n",
      "[11, 22, 55, 33, 55, 66, 77]\n"
     ]
    }
   ],
   "source": [
    "sample_list = [11,22,33,55,66]\n",
    "\n",
    "# print(\"original list: \", sample_list)\n",
    "\n",
    "# # 주어진 리스트의 3번 index에 있는 항목을 제거하고 변수에 할당해 주세요.\n",
    "\n",
    "# elem = sample_list.pop(3)\n",
    "\n",
    "# print('list after: ', sample_list)\n",
    "# print('elem: ', elem)\n",
    "\n",
    "# # sample_list의 가장 뒤에 77을 추가해보세요.\n",
    "sample_list.append(77)\n",
    "\n",
    "# 할당해놓은 변수의 값을 sample_list의 2번 index에 추가해보세요.\n",
    "print(sample_list)\n",
    "sample_list.insert(2, elem)\n",
    "print(sample_list)"
   ]
  },
  {
   "cell_type": "code",
   "execution_count": 14,
   "metadata": {},
   "outputs": [
    {
     "name": "stdout",
     "output_type": "stream",
     "text": [
      "(44, 55)\n"
     ]
    }
   ],
   "source": [
    "my_tuple = (11,22,33,44,55,66)\n",
    "\n",
    "# 주어진 튜플에서 44 와 55 의 값을 새로운 튜플에 할당해보세요.\n",
    "\n",
    "new_tuple = my_tuple[3: -1]\n",
    "print(new_tuple)"
   ]
  },
  {
   "cell_type": "code",
   "execution_count": 18,
   "metadata": {},
   "outputs": [
    {
     "name": "stdout",
     "output_type": "stream",
     "text": [
      "[1, 2, 3, 4, 5, 6, 7]\n",
      "[('eng', 88), ('sci', 90), ('math', 80)]\n",
      "[('math', 80), ('eng', 88), ('sci', 90)]\n"
     ]
    }
   ],
   "source": [
    "test_list = [1,2,3,7,4,6,5]\n",
    "test_list.sort()\n",
    "print(test_list)\n",
    "\n",
    "scores = [('eng', 88), ('sci', 90), ('math', 80)]\n",
    "\n",
    "\n",
    "# 일반 함수 만들어서 정렬\n",
    "\n",
    "def check(x):\n",
    "    return x[1]\n",
    "# scores.sort(key=check)\n",
    "\n",
    "# 람다함수로 정렬\n",
    "scores.sort(key=lambda x : x[1])\n",
    "\n",
    "print(scores)\n",
    "\n"
   ]
  },
  {
   "cell_type": "code",
   "execution_count": 22,
   "metadata": {},
   "outputs": [
    {
     "name": "stdout",
     "output_type": "stream",
     "text": [
      "1671439719744\n",
      "1671439719744\n",
      "[0, 80, 100]\n",
      "[0, 80, 100]\n",
      "1671439748544\n",
      "1671439719296\n"
     ]
    }
   ],
   "source": [
    "scores = [90,80,100]\n",
    "\n",
    "new_scores = scores\n",
    "\n",
    "print(id(scores))\n",
    "print(id(new_scores))\n",
    "\n",
    "new_scores[0] = 0\n",
    "\n",
    "print(scores)\n",
    "print(new_scores)\n",
    "\n",
    "# 깊은 복사 1\n",
    "scores = [90,80,100]\n",
    "new_scores = []\n",
    "\n",
    "for num in scores:\n",
    "    new_scores.append(num)\n",
    "\n",
    "print(id(scores))\n",
    "print(id(new_scores))\n"
   ]
  },
  {
   "cell_type": "code",
   "execution_count": 25,
   "metadata": {},
   "outputs": [
    {
     "name": "stdout",
     "output_type": "stream",
     "text": [
      "1671439752576\n",
      "1671439742208\n",
      "1671439752448\n",
      "1671439756608\n"
     ]
    }
   ],
   "source": [
    "# 깊은 복사 2\n",
    "\n",
    "import copy\n",
    "scores = [90,80,100]\n",
    "new_scores = copy.deepcopy(scores)\n",
    "print(id(scores))\n",
    "print(id(new_scores))\n",
    "\n",
    "\n",
    "from copy import deepcopy\n",
    "scores = [90,80,100]\n",
    "new_scores = deepcopy(scores)\n",
    "print(id(scores))\n",
    "print(id(new_scores))"
   ]
  },
  {
   "cell_type": "code",
   "execution_count": 27,
   "metadata": {},
   "outputs": [
    {
     "name": "stdout",
     "output_type": "stream",
     "text": [
      "1671439719168\n",
      "1671439410688\n",
      "1671335341264\n",
      "1671335341264\n"
     ]
    }
   ],
   "source": [
    "# 깊은 복사처럼 보이지만 실제로는 얕은 복사 ( 슬라이싱 연산자 이용 = 얕은 복사 )\n",
    "scores = [10,20,30]\n",
    "new_scores = scores[:] # 슬라이싱 연산자를 이용하면 새로운 객체를 만들어 준다.\n",
    "\n",
    "print(id(scores))\n",
    "print(id(new_scores))\n",
    "# 리스트 안에 참조(리스트, 객체 등)가 존재하면,,,\n",
    "score = [10,20,[30,40]]\n",
    "new_scores = scores[:]\n",
    "\n",
    "print(id(scores[2]))\n",
    "print(id(new_scores[2]))"
   ]
  },
  {
   "cell_type": "code",
   "execution_count": 28,
   "metadata": {},
   "outputs": [
    {
     "name": "stdout",
     "output_type": "stream",
     "text": [
      "1671439306480\n",
      "1671439306480\n"
     ]
    }
   ],
   "source": [
    "# 문자열\n",
    "\n",
    "a = \"12345\"\n",
    "\n",
    "# 아니! 이게 무슨 일이야! 나는 분명히 깊은 복사를 했는데?\n",
    "# 메모리 절약하기 위해 같은 문자열은 같은 값으로?\n",
    "# 그렇다면 문자열은 어떻게 깊은 복사를 할 수 있는가?\n",
    "\n",
    "b = deepcopy(a)\n",
    "\n",
    "print(id(a))\n",
    "print(id(b))\n",
    "\n",
    "# 문자열은 불변(리스트는 가변)\n"
   ]
  },
  {
   "cell_type": "code",
   "execution_count": 1,
   "metadata": {},
   "outputs": [
    {
     "name": "stdout",
     "output_type": "stream",
     "text": [
      "<class 'str'>\n"
     ]
    }
   ],
   "source": [
    "name = 'jinju'\n",
    "print(type(name))"
   ]
  },
  {
   "cell_type": "code",
   "execution_count": 6,
   "metadata": {},
   "outputs": [
    {
     "name": "stdout",
     "output_type": "stream",
     "text": [
      "이 클래스를 하나의 문자열로 표현하면 이겁니다\n"
     ]
    }
   ],
   "source": [
    "class Person:\n",
    "    def __init__(self, name, age):\n",
    "        # print('생성될 때 자동으로 불려요')\n",
    "\n",
    "        self.name = name\n",
    "        self.age = age\n",
    "    def __str__(self):\n",
    "        return '이 클래스를 하나의 문자열로 표현하면 이겁니다'\n",
    "\n",
    "aiden = Person('aiden', 23)\n",
    "print(aiden)\n",
    "\n",
    "# aiden = Person()\n",
    "# aiden.name = 'aiden'\n",
    "# aiden.age = 23\n",
    "\n"
   ]
  },
  {
   "cell_type": "code",
   "execution_count": 1,
   "metadata": {},
   "outputs": [
    {
     "ename": "AttributeError",
     "evalue": "type object 'Person' has no attribute 'number_of_population'",
     "output_type": "error",
     "traceback": [
      "\u001b[1;31m---------------------------------------------------------------------------\u001b[0m",
      "\u001b[1;31mAttributeError\u001b[0m                            Traceback (most recent call last)",
      "Cell \u001b[1;32mIn[1], line 15\u001b[0m\n\u001b[0;32m     12\u001b[0m person1 \u001b[39m=\u001b[39m Person(\u001b[39m'\u001b[39m\u001b[39m아이유\u001b[39m\u001b[39m'\u001b[39m)\n\u001b[0;32m     13\u001b[0m person2 \u001b[39m=\u001b[39m Person(\u001b[39m'\u001b[39m\u001b[39m이찬혁\u001b[39m\u001b[39m'\u001b[39m)\n\u001b[1;32m---> 15\u001b[0m Person\u001b[39m.\u001b[39;49mnumber_of_population()\n\u001b[0;32m     16\u001b[0m person1\u001b[39m.\u001b[39mnumber_of_population()\n\u001b[0;32m     17\u001b[0m person2\u001b[39m.\u001b[39mnumber_of_population()\n",
      "\u001b[1;31mAttributeError\u001b[0m: type object 'Person' has no attribute 'number_of_population'"
     ]
    }
   ],
   "source": [
    "class Person:\n",
    "    count = 0\n",
    "\n",
    "    def __init__(self, name):\n",
    "        self.name = name\n",
    "        Person.count += 1\n",
    "\n",
    "        @classmethod\n",
    "        def number_of_population(cls):\n",
    "            print(f'인구수는 {cls.count}입니다')\n",
    "\n",
    "person1 = Person('아이유')\n",
    "person2 = Person('이찬혁')\n",
    "\n",
    "Person.number_of_population()\n",
    "person1.number_of_population()\n",
    "person2.number_of_population()\n"
   ]
  },
  {
   "cell_type": "code",
   "execution_count": null,
   "metadata": {},
   "outputs": [],
   "source": [
    "# 객체, 클래스\n",
    "\n",
    "# 클래스 ==> 객체의 설계도 역할\n",
    "\n",
    "# 1. 클래스의 정의\n",
    "class Person:\n",
    "    pass\n",
    "# 2.인스턴스 생성\n",
    "person = Person()"
   ]
  },
  {
   "cell_type": "code",
   "execution_count": 2,
   "metadata": {},
   "outputs": [
    {
     "name": "stdout",
     "output_type": "stream",
     "text": [
      "김재만\n",
      "김진주\n",
      "red\n",
      "red\n",
      "red\n",
      "남\n",
      "2\n",
      "2\n"
     ]
    }
   ],
   "source": [
    "class Person:\n",
    "    # 클래스 변수\n",
    "    blood_color = \"red\" # 이 설계도를 통해 만들어질 객체들의 공통적인 속성\n",
    "    population = 0 # 이 설계도를 통해 만들어질 객체들이 공유할 속성\n",
    "\n",
    "    # 객체가 생성될 때 실행되는 함수(메서드)\n",
    "    # self는 생성될 인스턴스를 가르키케 된다.\n",
    "    def __init__(self, name):\n",
    "        # 인스턴스 변수\n",
    "        self.name = name # 독립된 인스턴스가 가지는 속성\n",
    "        # 클래스 변수\n",
    "        Person.population += 1\n",
    "\n",
    "# 인스턴스 생성\n",
    "김재만 = Person(\"김재만\")\n",
    "김진주 = Person(\"김진주\")\n",
    "\n",
    "# 인스턴스 속성 할당\n",
    "김재만.gender = \"남\"\n",
    "\n",
    "# 인스턴스 속성에 접근\n",
    "print(김재만.name)\n",
    "print(김진주.name)\n",
    "\n",
    "# 클래스 속성에 접근\n",
    "print(Person.blood_color)\n",
    "print(김재만.blood_color)\n",
    "print(김진주.blood_color)\n",
    "\n",
    "print(김재만.gender)\n",
    "# print(김진주.gender)"
   ]
  },
  {
   "cell_type": "code",
   "execution_count": 3,
   "metadata": {},
   "outputs": [
    {
     "name": "stdout",
     "output_type": "stream",
     "text": [
      "제 이름은 이병헌 입니다\n",
      "True\n",
      "False\n"
     ]
    }
   ],
   "source": [
    "class Person:\n",
    "\n",
    "    def __init__(self, name):\n",
    "        # 인스턴스 변수 초기값 설정\n",
    "        self.name = name\n",
    "\n",
    "    def __str__(self):\n",
    "        return f\"제 이름은 {self.name} 입니다\"\n",
    "\n",
    "    def __eq__(self, o):\n",
    "        if self.name == o.name:\n",
    "            return True\n",
    "        else:\n",
    "            return False\n",
    "        \n",
    "이병헌 = Person(\"이병헌\")\n",
    "print(이병헌)\n",
    "이병헌2 = Person(\"이병헌\")\n",
    "\n",
    "print(이병헌 == 이병헌2)\n",
    "print(이병헌 is 이병헌2)"
   ]
  },
  {
   "cell_type": "code",
   "execution_count": 12,
   "metadata": {},
   "outputs": [
    {
     "name": "stdout",
     "output_type": "stream",
     "text": [
      "이름 : Avante, 차량번호 : 1234, 속도 : 50\n",
      "True\n"
     ]
    }
   ],
   "source": [
    "# 자동차 클래스\n",
    "class Car:\n",
    "    # 클래스 변수\n",
    "    count = 0\n",
    "    \n",
    "    # 인스턴스 변수 설정\n",
    "    def __init__(self, num, name):\n",
    "\n",
    "        self.num = num\n",
    "        self.name = name\n",
    "        self.speed = 0\n",
    "        # 클래스 변수에 할당\n",
    "        Car.count += 1\n",
    "\n",
    "    def accelerate(self, speed):\n",
    "        self.speed += speed\n",
    "    \n",
    "    def slow_down(self, speed):\n",
    "        self.speed -= speed\n",
    "\n",
    "    def __str__(self):\n",
    "        return f\"이름 : {self.name}, 차량번호 : {self.num}, 속도 : {self.speed}\"\n",
    "    \n",
    "    # o : 비교 대상 객체\n",
    "    def __eq__(self, o):\n",
    "        return self.num == o.num # 같으면 True 다르면 False\n",
    "\n",
    "# 자동차 클래스의 속성\n",
    "# 자동차 총 수 total, 자동차의 차량번호 number, 자동차의 이름 name, 자동차의 속도 speed\n",
    "# 자동차 클래스의 기능\n",
    "# 자동차의 속도를 파라미터 만큼 증가시키는 메서드\n",
    "# 자동차의 속도를 파라미터 만큼 감소시키는 메서드\n",
    "# 자동차 클래스를 print를 통해 출력할 때는\n",
    "# \"이름 : 자동차이름, 차량번호 : 차량번호, 속도 : 속도\"\n",
    "# 자동차 인스턴스를 비교할 때 차량번호가 같으면 같은 자동차로 취급한다.\n",
    "\n",
    "avante = Car(1234, \"Avante\")\n",
    "carnival = Car(1234, \"Carnival\")\n",
    "avante.accelerate(100)\n",
    "avante.slow_down(50)\n",
    "print(avante)\n",
    "print(avante == carnival )"
   ]
  },
  {
   "cell_type": "code",
   "execution_count": 13,
   "metadata": {},
   "outputs": [
    {
     "name": "stdout",
     "output_type": "stream",
     "text": [
      "생성\n",
      "소멸\n"
     ]
    }
   ],
   "source": [
    "class Person:\n",
    "    def __init__(self):\n",
    "        print(\"생성\")\n",
    "    \n",
    "    def __del__(self):\n",
    "        print(\"소멸\")\n",
    "\n",
    "p1 = Person()\n",
    "p1 = 3\n"
   ]
  },
  {
   "cell_type": "code",
   "execution_count": 15,
   "metadata": {},
   "outputs": [
    {
     "name": "stdout",
     "output_type": "stream",
     "text": [
      "생성\n"
     ]
    }
   ],
   "source": [
    "class Person:\n",
    "\n",
    "    person = Person()"
   ]
  },
  {
   "cell_type": "code",
   "execution_count": 1,
   "metadata": {},
   "outputs": [
    {
     "ename": "AttributeError",
     "evalue": "type object 'Person' has no attribute 'population'",
     "output_type": "error",
     "traceback": [
      "\u001b[1;31m---------------------------------------------------------------------------\u001b[0m",
      "\u001b[1;31mAttributeError\u001b[0m                            Traceback (most recent call last)",
      "Cell \u001b[1;32mIn[1], line 14\u001b[0m\n\u001b[0;32m     12\u001b[0m         Person\u001b[39m.\u001b[39mpopulation \u001b[39m+\u001b[39m\u001b[39m=\u001b[39m \u001b[39m1\u001b[39m\n\u001b[0;32m     13\u001b[0m \u001b[39m#인스턴스 생성\u001b[39;00m\n\u001b[1;32m---> 14\u001b[0m 김재만 \u001b[39m=\u001b[39m Person(\u001b[39m\"\u001b[39;49m\u001b[39m김재만\u001b[39;49m\u001b[39m\"\u001b[39;49m)\n\u001b[0;32m     15\u001b[0m 김진주 \u001b[39m=\u001b[39m Person(\u001b[39m\"\u001b[39m\u001b[39m김진주\u001b[39m\u001b[39m\"\u001b[39m)\n\u001b[0;32m     17\u001b[0m \u001b[39m#인스턴스 속성 할당\u001b[39;00m\n",
      "Cell \u001b[1;32mIn[1], line 12\u001b[0m, in \u001b[0;36mPerson.__init__\u001b[1;34m(self, name)\u001b[0m\n\u001b[0;32m     10\u001b[0m \u001b[39mself\u001b[39m\u001b[39m.\u001b[39mname \u001b[39m=\u001b[39m name \u001b[39m# 독립된 인스턴스가 가지는 속성\u001b[39;00m\n\u001b[0;32m     11\u001b[0m \u001b[39m#클래스 변수\u001b[39;00m\n\u001b[1;32m---> 12\u001b[0m Person\u001b[39m.\u001b[39mpopulation \u001b[39m+\u001b[39m\u001b[39m=\u001b[39m \u001b[39m1\u001b[39m\n",
      "\u001b[1;31mAttributeError\u001b[0m: type object 'Person' has no attribute 'population'"
     ]
    }
   ],
   "source": [
    "class Person:\n",
    "    # 클래스 변수\n",
    "    blood_color = \"red\" # 이 설계도를 통해 만들어질 객체들의 공통적인 속성\n",
    "    populaiton = 0  # 이 설계도를 통해 만들어질 객체들이 공유할 속성\n",
    "    \n",
    "    #객체가 생성될 때 실행되는 함수 (매서드)\n",
    "    #self는 생성될 인스턴트를 가르키게 된다.\n",
    "    def __init__(self,name):\n",
    "        #인스턴트 변수\n",
    "        self.name = name # 독립된 인스턴스가 가지는 속성\n",
    "        #클래스 변수\n",
    "        Person.population += 1\n",
    "#인스턴스 생성\n",
    "김재만 = Person(\"김재만\")\n",
    "김진주 = Person(\"김진주\")\n",
    "\n",
    "#인스턴스 속성 할당\n",
    "김재만.gender = \"남\"\n",
    "\n",
    "#인스턴스 속성에 접근\n",
    "print(김재만.name)\n",
    "print(김진주.name)\n",
    "\n",
    "#클래스 속성에 접근\n",
    "print(Person.blood_color)\n",
    "print(김재만.blood_color)\n"
   ]
  },
  {
   "cell_type": "code",
   "execution_count": 3,
   "metadata": {},
   "outputs": [
    {
     "name": "stdout",
     "output_type": "stream",
     "text": [
      "(2, 2)\n",
      "(2, 1)\n",
      "왕왕!\n"
     ]
    }
   ],
   "source": [
    "class Doggy:\n",
    "    num_of_dogs = 0\n",
    "    birth_of_dogs = 0\n",
    "    \n",
    "    def __init__(self, name, jong):\n",
    "        self.name = name\n",
    "        self.jong = jong\n",
    "        Doggy.num_of_dogs += 1\n",
    "        Doggy.birth_of_dogs += 1\n",
    "\n",
    "    def bark(self):\n",
    "        return '왕왕!'\n",
    "\n",
    "    def get_status(self):\n",
    "        return Doggy.birth_of_dogs, Doggy.num_of_dogs\n",
    "\n",
    "    def __del__(self):\n",
    "        Doggy.num_of_dogs -= 1\n",
    "        \n",
    "\n",
    "살구 = Doggy(\"살구\", \"시츄라니안\")\n",
    "백구 = Doggy(\"백구\", \"진돗개\")\n",
    "\n",
    "print(살구.get_status())\n",
    "\n",
    "del 백구\n",
    "\n",
    "print(살구.get_status())\n",
    "\n",
    "print(살구.bark())"
   ]
  },
  {
   "cell_type": "code",
   "execution_count": 20,
   "metadata": {},
   "outputs": [
    {
     "name": "stdout",
     "output_type": "stream",
     "text": [
      "안녕하세요, 김진주님!\n",
      "안녕하세요, 진주님!\n",
      "Hello, jinju!\n"
     ]
    }
   ],
   "source": [
    "# 1/31(화) 데코레이터 수업\n",
    "\n",
    "def ko_hello(name):\n",
    "    return f\"안녕하세요, {name}님!\"\n",
    "print(ko_hello(\"김진주\"))\n",
    "\n",
    "# aiden 강사님 풀이\n",
    "def ko_hello(name):\n",
    "    print(f'안녕하세요, {name}님!')\n",
    "\n",
    "def en_hello(name):\n",
    "    print(f'Hello, {name}!')\n",
    "\n",
    "ko_hello('진주')\n",
    "en_hello('jinju')"
   ]
  },
  {
   "cell_type": "code",
   "execution_count": 15,
   "metadata": {},
   "outputs": [
    {
     "name": "stdout",
     "output_type": "stream",
     "text": [
      "안녕하세요, 딩두님!\n",
      "^~^//\n"
     ]
    }
   ],
   "source": [
    "# 함수를 인자로 넘길 수 있다.\n",
    "\n",
    "def add_emoji(name,func):\n",
    "    func(name)\n",
    "    print('^~^//')\n",
    "\n",
    "add_emoji('딩두', ko_hello)"
   ]
  },
  {
   "cell_type": "code",
   "execution_count": 24,
   "metadata": {},
   "outputs": [
    {
     "name": "stdout",
     "output_type": "stream",
     "text": [
      "안녕하세요, jinju님!\n",
      "^~^//\n",
      "안녕하세요, jinju님!\n",
      "^~^//\n"
     ]
    }
   ],
   "source": [
    "def add_emoji(name,func):\n",
    "    func(name)\n",
    "    print('^~^//')\n",
    "\n",
    "def emoji_decorator(func):\n",
    "    def wrapper(name):\n",
    "        func(name)\n",
    "        print('^~^//')\n",
    "\n",
    "    return wrapper\n",
    "\n",
    "# 방법1\n",
    "new_func = emoji_decorator(ko_hello)\n",
    "new_func('jinju')   # 함수를 그대로 두고 기능만 추가함\n",
    "\n",
    "# 방법2\n",
    "(emoji_decorator(ko_hello))('jinju')"
   ]
  },
  {
   "cell_type": "code",
   "execution_count": 3,
   "metadata": {},
   "outputs": [
    {
     "name": "stdout",
     "output_type": "stream",
     "text": [
      "안녕하세요, 진주님!\n",
      "^~^//\n",
      "Hello, jinju!\n",
      "^~^//\n"
     ]
    }
   ],
   "source": [
    "# 데코레이터 적용\n",
    "def emoji_decorator(func):\n",
    "    def wrapper(name):\n",
    "        func(name)\n",
    "        print('^~^//')\n",
    "\n",
    "    return wrapper\n",
    "\n",
    "@emoji_decorator\n",
    "def ko_hello(name):\n",
    "    print(f'안녕하세요, {name}님!')\n",
    "\n",
    "@emoji_decorator\n",
    "def en_hello(name):\n",
    "    print(f'Hello, {name}!')\n",
    "\n",
    "ko_hello('진주')\n",
    "en_hello('jinju')"
   ]
  },
  {
   "cell_type": "code",
   "execution_count": 5,
   "metadata": {},
   "outputs": [
    {
     "name": "stdout",
     "output_type": "stream",
     "text": [
      "인구수는 2입니다.\n",
      "인구수는 2입니다.\n",
      "인구수는 2입니다.\n"
     ]
    }
   ],
   "source": [
    "class Person:\n",
    "    count = 0\n",
    "    def __init__(self,name):\n",
    "        self.name = name\n",
    "        Person.count += 1\n",
    "\n",
    "    @classmethod\n",
    "    def number_of_population(cls):\n",
    "        print(f'인구수는 {cls.count}입니다.')\n",
    "\n",
    "person1 = Person('아이유')\n",
    "person2 = Person('이찬혁')\n",
    "\n",
    "Person.number_of_population()\n",
    "person1.number_of_population()\n",
    "person2.number_of_population()"
   ]
  },
  {
   "cell_type": "code",
   "execution_count": 9,
   "metadata": {},
   "outputs": [
    {
     "name": "stdout",
     "output_type": "stream",
     "text": [
      "isinstance method\n",
      "class method\n",
      "staticmethod\n"
     ]
    }
   ],
   "source": [
    "class MyClass:\n",
    "\n",
    "    def method(self):\n",
    "        return 'isinstance method'\n",
    "\n",
    "    @classmethod\n",
    "    def classmethod(cls):\n",
    "        return 'class method'\n",
    "\n",
    "    @staticmethod\n",
    "    def staticmethod():\n",
    "        return 'staticmethod'\n",
    "\n",
    "\n",
    "my_class = MyClass()\n",
    "print(my_class.method())\n",
    "print(my_class.classmethod())\n",
    "print(my_class.staticmethod())"
   ]
  },
  {
   "cell_type": "code",
   "execution_count": 16,
   "metadata": {},
   "outputs": [
    {
     "name": "stdout",
     "output_type": "stream",
     "text": [
      "setter 호출!\n",
      "getter 호출!\n",
      "25\n"
     ]
    }
   ],
   "source": [
    "# getter / setter 메서드\n",
    "class Person:\n",
    "    def __init__(self):\n",
    "        self._age = 0 # private member ????\n",
    "\n",
    "    def get_age(self):  # getter\n",
    "        print('getter 호출!')\n",
    "        return self._age\n",
    "    \n",
    "    def set_age(self, age): # setter\n",
    "        print('setter 호출!')\n",
    "        self._age = age\n",
    "\n",
    "    # age : class 변수 & 퍼블릭\n",
    "    age = property(get_age, set_age)\n",
    "\n",
    "p1 = Person()\n",
    "p1.age = 25\n",
    "print(p1.age)\n",
    "\n",
    "# p1 = Person()\n",
    "# # p1._age = 25 # 이거 안됨\n",
    "# # print(p1._age) # 이거 안됨\n",
    "\n",
    "# p1.set_age(25)\n",
    "# print(p1.get_age())"
   ]
  },
  {
   "cell_type": "code",
   "execution_count": 17,
   "metadata": {},
   "outputs": [
    {
     "name": "stdout",
     "output_type": "stream",
     "text": [
      "setter 호출!\n",
      "getter 호출!\n",
      "25\n"
     ]
    }
   ],
   "source": [
    "class Person:\n",
    "    def __init__(self):\n",
    "        self._age = 0 # private member ????\n",
    "\n",
    "    @property\n",
    "    def age(self):  # getter\n",
    "        print('getter 호출!')\n",
    "        return self._age\n",
    "    \n",
    "    @age.setter\n",
    "    def age(self, age): # setter\n",
    "        print('setter 호출!')\n",
    "        self._age = age\n",
    "\n",
    "p1 = Person()\n",
    "p1.age = 25\n",
    "print(p1.age)"
   ]
  },
  {
   "cell_type": "code",
   "execution_count": 20,
   "metadata": {},
   "outputs": [
    {
     "name": "stdout",
     "output_type": "stream",
     "text": [
      "빵빵\n"
     ]
    },
    {
     "ename": "NameError",
     "evalue": "name 'Santafe' is not defined",
     "output_type": "error",
     "traceback": [
      "\u001b[1;31m---------------------------------------------------------------------------\u001b[0m",
      "\u001b[1;31mNameError\u001b[0m                                 Traceback (most recent call last)",
      "Cell \u001b[1;32mIn[20], line 14\u001b[0m\n\u001b[0;32m     11\u001b[0m morning \u001b[39m=\u001b[39m Morning()\n\u001b[0;32m     12\u001b[0m morning\u001b[39m.\u001b[39mhorn()\n\u001b[1;32m---> 14\u001b[0m santafe \u001b[39m=\u001b[39m Santafe()\n\u001b[0;32m     15\u001b[0m santafe\u001b[39m.\u001b[39mhorn()\n",
      "\u001b[1;31mNameError\u001b[0m: name 'Santafe' is not defined"
     ]
    }
   ],
   "source": [
    "# 상속 - 코드 재사용성이 높아진다\n",
    "\n",
    "class Car:\n",
    "    \n",
    "    def horn(self):\n",
    "        print(\"빵빵\")\n",
    "\n",
    "class Morning(Car):\n",
    "    pass\n",
    "\n",
    "morning = Morning()\n",
    "morning.horn()\n",
    "\n",
    "santafe = Santafe()\n",
    "santafe.horn()"
   ]
  },
  {
   "cell_type": "code",
   "execution_count": 13,
   "metadata": {},
   "outputs": [
    {
     "name": "stdout",
     "output_type": "stream",
     "text": [
      "30\n",
      "1억\n",
      "1234-3456\n",
      "1234-3456\n"
     ]
    }
   ],
   "source": [
    "# 객체 지향 (캡슐화-접근제어자)\n",
    "class Person:\n",
    "\n",
    "    def __init__(self, name, age, money, num):\n",
    "        # public\n",
    "        self.name = name\n",
    "        self.age = age\n",
    "        # protected\n",
    "        self._money = money\n",
    "        # private\n",
    "        self.__num = num\n",
    "    \n",
    "    def get_money(self):\n",
    "        print(self._money)\n",
    "\n",
    "    def get_num(self, password):\n",
    "        if password == \"1234\":\n",
    "            print(self.__num)\n",
    "        else:\n",
    "            print(\"비밀번호를 잘못 입력했습니다.\")\n",
    "\n",
    "\n",
    "p1 = Person(\"홍길동\", 30, \"1억\", \"1234-3456\")\n",
    "\n",
    "print(p1.age)\n",
    "\n",
    "p1.get_money()\n",
    "\n",
    "p1.get_num(\"1234\")\n",
    "\n",
    "# print(p1._Person__num) # 밖에서 private 에 접근 (클래스이름 변수) - 쓰지말고 알아두기만 하자"
   ]
  },
  {
   "cell_type": "code",
   "execution_count": 2,
   "metadata": {},
   "outputs": [
    {
     "name": "stdout",
     "output_type": "stream",
     "text": [
      "0으로는 바꿀 수 없습니다.\n",
      "2.0\n"
     ]
    }
   ],
   "source": [
    "# getter / setter\n",
    "\n",
    "class Calculator:\n",
    "    # getter setter는 public에는 사용 안한다.\n",
    "    def __init__(self, a, b):\n",
    "        self._a = a # 언더바 붙히는 이유 = 메서드 명이 밑에 함수명이랑 겹쳐서\n",
    "        self._b = b\n",
    "\n",
    "\n",
    "    @property\n",
    "    def b(self):\n",
    "        return self._b\n",
    "    \n",
    "    @b.setter\n",
    "    def b(self, new_b):\n",
    "        if new_b == 0:\n",
    "            print(\"0으로는 바꿀 수 없습니다.\")\n",
    "            return\n",
    "\n",
    "        self._b = new_b\n",
    "\n",
    "    def divide(self):\n",
    "        return self._a / self._b\n",
    "\n",
    "c = Calculator(10, 5)\n",
    "\n",
    "c.b = 0 # zerodivisionerror\n",
    "\n",
    "print(c.divide())\n"
   ]
  },
  {
   "cell_type": "code",
   "execution_count": 14,
   "metadata": {},
   "outputs": [
    {
     "name": "stdout",
     "output_type": "stream",
     "text": [
      "여기가 실행되는지 안되는지\n",
      "0으로 나눌 수 없습니다\n",
      "1\n"
     ]
    }
   ],
   "source": [
    "# 예외 처리\n",
    "num = 0\n",
    "\n",
    "try:\n",
    "    num = int(input(\"숫자를 입력해주세요\"))\n",
    "\n",
    "    print(\"여기가 실행되는지 안되는지\")\n",
    "    print(10/0)\n",
    "except ValueError:\n",
    "    print(\"ValueError 예외 발생\")\n",
    "except ZeroDivisionError:\n",
    "    print(\"0으로 나눌 수 없습니다\")\n",
    "\n",
    "print(num)"
   ]
  },
  {
   "cell_type": "code",
   "execution_count": 18,
   "metadata": {},
   "outputs": [
    {
     "name": "stdout",
     "output_type": "stream",
     "text": [
      "예외 발생\n",
      "0\n",
      "0으로 나눌 수 없습니다\n",
      "0\n"
     ]
    }
   ],
   "source": [
    "# 예외 처리 잘못된 사례\n",
    "num = 0\n",
    "\n",
    "try:\n",
    "    print(10/0)\n",
    "except Exception:\n",
    "    print(\"예외 발생\")\n",
    "except ZeroDivisionError:\n",
    "    print(\"0으로 나눌 수 없습니다\")\n",
    "\n",
    "print(num)\n",
    "\n",
    "# 예외 처리는 범위가 작은 것부터 해야함 (큰거는 뒤에 작은 것은 앞에)\n",
    "num = 0\n",
    "\n",
    "try:\n",
    "    print(10/0)\n",
    "except ZeroDivisionError:\n",
    "    print(\"0으로 나눌 수 없습니다\")\n",
    "except Exception:\n",
    "    print(\"예외 발생\")\n",
    "\n",
    "print(num)"
   ]
  }
 ],
 "metadata": {
  "kernelspec": {
   "display_name": "Python 3",
   "language": "python",
   "name": "python3"
  },
  "language_info": {
   "codemirror_mode": {
    "name": "ipython",
    "version": 3
   },
   "file_extension": ".py",
   "mimetype": "text/x-python",
   "name": "python",
   "nbconvert_exporter": "python",
   "pygments_lexer": "ipython3",
   "version": "3.9.12 (tags/v3.9.12:b28265d, Mar 23 2022, 23:52:46) [MSC v.1929 64 bit (AMD64)]"
  },
  "orig_nbformat": 4,
  "vscode": {
   "interpreter": {
    "hash": "c4b9ebf4ca459396e2ad1150752490c26670c1a037c08cad955a4425787bec2e"
   }
  }
 },
 "nbformat": 4,
 "nbformat_minor": 2
}
