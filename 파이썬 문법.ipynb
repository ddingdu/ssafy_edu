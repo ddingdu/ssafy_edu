{
 "cells": [
  {
   "cell_type": "code",
   "execution_count": 2,
   "metadata": {},
   "outputs": [
    {
     "name": "stdout",
     "output_type": "stream",
     "text": [
      "20 10\n"
     ]
    }
   ],
   "source": [
    "x = 10\n",
    "y = 20\n",
    "\n",
    "temp = x\n",
    "x = y\n",
    "y = temp\n",
    "print(x,y)"
   ]
  },
  {
   "cell_type": "code",
   "execution_count": 5,
   "metadata": {},
   "outputs": [
    {
     "name": "stdout",
     "output_type": "stream",
     "text": [
      "HELLOWORLD\n",
      "HELLOHELLOHELLO\n"
     ]
    }
   ],
   "source": [
    "print(\"HELLO\"+\"WORLD\")\n",
    "print(\"HELLO\"*3)"
   ]
  },
  {
   "cell_type": "code",
   "execution_count": 9,
   "metadata": {},
   "outputs": [
    {
     "name": "stdout",
     "output_type": "stream",
     "text": [
      "아메리카노는 2000원이고 라떼는 4000원 입니다.\n",
      "아메리카노는 2000원이고 라떼는 4000원 입니다.\n"
     ]
    }
   ],
   "source": [
    "ame = 2000\n",
    "latte = 4000\n",
    "\n",
    "# +연산자를 통한 문자열 연결 str() => 문자열로 만들어주는 함수\n",
    "str1 = \"아메리카노는 \" + str(ame) + \"원이고 라떼는 \" + str(latte) + \"원 입니다.\"\n",
    "# f-string 사용\n",
    "str2 = f\"아메리카노는 {ame}원이고 라떼는 {latte}원 입니다.\"\n",
    "\n",
    "print(str1)  \n",
    "print(str2)"
   ]
  },
  {
   "cell_type": "code",
   "execution_count": 20,
   "metadata": {},
   "outputs": [
    {
     "name": "stdout",
     "output_type": "stream",
     "text": [
      "False\n",
      "True\n",
      "False\n"
     ]
    }
   ],
   "source": [
    "print(3 == 4)\n",
    "print(\"3\" != 3)\n",
    "\n",
    "print(\"HI\" == \"Hi\") # 문자 비교할 때는 대소문자도 같아야 같은 값이다"
   ]
  },
  {
   "cell_type": "code",
   "execution_count": 25,
   "metadata": {},
   "outputs": [
    {
     "name": "stdout",
     "output_type": "stream",
     "text": [
      "True\n",
      "False\n",
      "False\n",
      "False\n",
      "===============\n",
      "True\n",
      "False\n",
      "False\n",
      "False\n"
     ]
    }
   ],
   "source": [
    "print( 3 == 3 and 4 == 4 )\n",
    "print( 4 == 3 and 4 == 4 )\n",
    "print( 4 == 4 and 4 == 3 )\n",
    "print( False and False )\n",
    "print(\"===============\")\n",
    "print( True and True )\n",
    "print( True and False )\n",
    "print( False and True )\n",
    "print( False and False )"
   ]
  },
  {
   "cell_type": "code",
   "execution_count": 26,
   "metadata": {},
   "outputs": [
    {
     "name": "stdout",
     "output_type": "stream",
     "text": [
      "5\n",
      "0\n"
     ]
    }
   ],
   "source": [
    "print(3 and 5)\n",
    "print(3 and 0)"
   ]
  },
  {
   "cell_type": "code",
   "execution_count": 30,
   "metadata": {},
   "outputs": [
    {
     "name": "stdout",
     "output_type": "stream",
     "text": [
      "A\n",
      "['apple', 'banana', 'cherry']\n",
      "apple\n",
      "banana\n",
      "cherry\n",
      "b\n",
      "cherry\n"
     ]
    }
   ],
   "source": [
    "my_list = ['A', 'B', ['apple', 'banana', 'cherry']]\n",
    "\n",
    "print(my_list[0])\n",
    "print(my_list[2])\n",
    "\n",
    "print(my_list[2][0])\n",
    "print(my_list[2][1])\n",
    "print(my_list[2][2])\n",
    "\n",
    "print(my_list[-1][1][0])\n",
    "print(my_list[2][-1])"
   ]
  },
  {
   "cell_type": "code",
   "execution_count": 32,
   "metadata": {},
   "outputs": [
    {
     "name": "stdout",
     "output_type": "stream",
     "text": [
      "['a', 'b', 'c']\n"
     ]
    }
   ],
   "source": [
    "my_dict = {\"a\" : \"AAA\", \"b\" : \"BBB\", \"c\" : \"CCC\"}\n",
    "my_list = list(my_dict)\n",
    "\n",
    "print(my_list)"
   ]
  },
  {
   "cell_type": "code",
   "execution_count": 9,
   "metadata": {},
   "outputs": [
    {
     "name": "stdout",
     "output_type": "stream",
     "text": [
      "짝수\n",
      "짝수\n"
     ]
    }
   ],
   "source": [
    "num = int(input('숫자 입력: '))\n",
    "\n",
    "if num % 2 == 0:    #  if num % 2:\n",
    "    print(\"짝수\")\n",
    "else:\n",
    "    print(\"홀수\")\n",
    "\n",
    "# <조건표현식>으로 짝수 / 홀수 구분\n",
    "num = int(input())\n",
    "\n",
    "value = \"짝수\" if num % 2 == 0 else \"홀수\"\n",
    "print(value)"
   ]
  },
  {
   "cell_type": "code",
   "execution_count": 5,
   "metadata": {},
   "outputs": [
    {
     "name": "stdout",
     "output_type": "stream",
     "text": [
      "매우 나쁨\n",
      "실외 활동을 자제하세요.\n"
     ]
    }
   ],
   "source": [
    "dust = 310\n",
    "\n",
    "if dust > 150:\n",
    "    print(\"매우 나쁨\")\n",
    "    if dust > 300:\n",
    "        print(\"실외 활동을 자제하세요.\")\n",
    "elif dust > 80:\n",
    "    print(\"나쁨\")\n",
    "else:\n",
    "    print(\"좋음\")\n"
   ]
  },
  {
   "cell_type": "code",
   "execution_count": 7,
   "metadata": {},
   "outputs": [
    {
     "name": "stdout",
     "output_type": "stream",
     "text": [
      "10\n"
     ]
    }
   ],
   "source": [
    "# <조건 표현식>\n",
    "num = 10\n",
    "\n",
    "value = num if num >= 0 else -num\n",
    "print(value)"
   ]
  },
  {
   "cell_type": "code",
   "execution_count": 23,
   "metadata": {},
   "outputs": [
    {
     "name": "stdout",
     "output_type": "stream",
     "text": [
      "6\n",
      "7\n",
      "8\n",
      "9\n",
      "끝\n"
     ]
    }
   ],
   "source": [
    "a = 6\n",
    "while a > 5:\n",
    "    print(a)\n",
    "    a += 1\n",
    "    if a == 10:\n",
    "        break\n",
    "print('끝')"
   ]
  },
  {
   "cell_type": "code",
   "execution_count": 12,
   "metadata": {},
   "outputs": [
    {
     "name": "stdout",
     "output_type": "stream",
     "text": [
      "0\n",
      "1\n",
      "2\n",
      "3\n",
      "4\n",
      "6\n",
      "7\n",
      "8\n",
      "9\n"
     ]
    }
   ],
   "source": [
    "for num in range(10):\n",
    "    if num == 5:\n",
    "        continue\n",
    "    print(num)"
   ]
  },
  {
   "cell_type": "code",
   "execution_count": 13,
   "metadata": {},
   "outputs": [
    {
     "name": "stdout",
     "output_type": "stream",
     "text": [
      "0\n",
      "1\n",
      "2\n",
      "3\n",
      "4\n"
     ]
    }
   ],
   "source": [
    "for num in range(10):\n",
    "    if num == 5:\n",
    "        break\n",
    "    print(num)"
   ]
  },
  {
   "cell_type": "code",
   "execution_count": 14,
   "metadata": {},
   "outputs": [
    {
     "name": "stdout",
     "output_type": "stream",
     "text": [
      "h\n",
      "a\n",
      "p\n",
      "p\n",
      "y\n"
     ]
    }
   ],
   "source": [
    "chars = input()\n",
    "\n",
    "for char in chars:\n",
    "    print(char)"
   ]
  },
  {
   "cell_type": "code",
   "execution_count": 16,
   "metadata": {},
   "outputs": [
    {
     "name": "stdout",
     "output_type": "stream",
     "text": [
      "h\n",
      "a\n",
      "p\n",
      "p\n",
      "y\n"
     ]
    }
   ],
   "source": [
    "chars = \"happy\"\n",
    "\n",
    "for idx in range(len(chars)):\n",
    "    print(chars[idx])"
   ]
  },
  {
   "cell_type": "code",
   "execution_count": 27,
   "metadata": {},
   "outputs": [
    {
     "name": "stdout",
     "output_type": "stream",
     "text": [
      "apple\n",
      "banana\n",
      "mango\n",
      "끝\n",
      "ee\n",
      "ee\n",
      "ee\n",
      "ee\n",
      "ee\n"
     ]
    }
   ],
   "source": [
    "fruits = ['apple','banana','mango']\n",
    "\n",
    "for fruit in fruits:\n",
    "    print(fruit)\n",
    "print('끝')\n",
    "\n",
    "for _ in range(5):\n",
    "    print(\"ee\")"
   ]
  },
  {
   "cell_type": "code",
   "execution_count": 33,
   "metadata": {},
   "outputs": [
    {
     "name": "stdout",
     "output_type": "stream",
     "text": [
      "[1, 4, 9, 16, 25, 36, 49, 64, 81, 100]\n",
      "[1, 4, 9, 16, 25, 36, 49, 64, 81, 100]\n",
      "[4, 16, 36, 64, 100]\n"
     ]
    }
   ],
   "source": [
    "# 1 부터 10까지 숫자를 제곱해서 리스트 만들기\n",
    "# my_list = [1,4,9,...]\n",
    "\n",
    "my_list = []\n",
    "for i in range(1,11):\n",
    "    my_list.append(i * i)\n",
    "\n",
    "print(my_list)\n",
    "\n",
    "# < List Comprehension >\n",
    "my_list = [num ** 2 for num in range(1,11)]\n",
    "print(my_list)\n",
    "\n",
    "# if로 조건식 추가\n",
    "my_list = [num ** 2 for num in range(1,11) if num % 2 == 0]\n",
    "print(my_list)"
   ]
  },
  {
   "cell_type": "code",
   "execution_count": 35,
   "metadata": {},
   "outputs": [
    {
     "name": "stdout",
     "output_type": "stream",
     "text": [
      "{1: 1, 2: 4, 3: 9, 4: 16, 5: 25, 6: 36, 7: 49, 8: 64, 9: 81, 10: 100}\n",
      "{2: 4, 4: 16, 6: 36, 8: 64, 10: 100}\n"
     ]
    }
   ],
   "source": [
    "# < Dictionary Comprehension >\n",
    "my_dict = {num:num**2 for num in range(1,11)}\n",
    "print(my_dict)\n",
    "\n",
    "my_dict = {num:num**2 for num in range(1,11) if num%2 == 0}\n",
    "print(my_dict)"
   ]
  },
  {
   "cell_type": "code",
   "execution_count": 39,
   "metadata": {},
   "outputs": [
    {
     "name": "stdout",
     "output_type": "stream",
     "text": [
      "0\n",
      "1\n",
      "2\n",
      "0\n",
      "1\n",
      "0과 1만 필요해!\n"
     ]
    }
   ],
   "source": [
    "n = 0\n",
    "while True:\n",
    "    if n == 3:\n",
    "        break\n",
    "    print(n)\n",
    "    n += 1\n",
    "\n",
    "for i in range(10):\n",
    "    if i > 1:\n",
    "        print('0과 1만 필요해!')\n",
    "        break\n",
    "    print(i)"
   ]
  },
  {
   "cell_type": "code",
   "execution_count": 40,
   "metadata": {},
   "outputs": [
    {
     "name": "stdout",
     "output_type": "stream",
     "text": [
      "1\n",
      "3\n",
      "5\n"
     ]
    }
   ],
   "source": [
    "for i in range(6):\n",
    "    if i % 2 == 0:\n",
    "        continue\n",
    "    print(i)"
   ]
  },
  {
   "cell_type": "code",
   "execution_count": 47,
   "metadata": {},
   "outputs": [
    {
     "name": "stdout",
     "output_type": "stream",
     "text": [
      "2 * 1 = 2\n",
      "2 * 2 = 4\n",
      "2 * 3 = 6\n",
      "2 * 4 = 8\n",
      "2 * 6 = 12\n",
      "2 * 7 = 14\n",
      "2 * 8 = 16\n",
      "2 * 9 = 18\n"
     ]
    }
   ],
   "source": [
    "# continue 사용\n",
    "\n",
    "# 2단부터 9단까지 출력\n",
    "# 중간에 5를 곱하는 부분은 빼고 출력\n",
    "\n",
    "# <2단>\n",
    "for num in range(1,10):\n",
    "    if num == 5:\n",
    "        continue\n",
    "    print(f\"2 * {num} = {2*num}\")\n",
    "\n",
    "# \n",
    "for left in range(2,10):\n",
    "    for num in range(1,10):\n",
    "        if num == 5:\n",
    "            continue\n",
    "        print(f\"2 * {num} = {2*num}\")\n",
    "\n"
   ]
  },
  {
   "cell_type": "code",
   "execution_count": 52,
   "metadata": {},
   "outputs": [
    {
     "name": "stdout",
     "output_type": "stream",
     "text": [
      "john 80\n",
      "eric 90\n"
     ]
    }
   ],
   "source": [
    "grades = {'john': 80, 'eric': 90}\n",
    "for a in grades:\n",
    "    print(a,grades[a])\n"
   ]
  }
 ],
 "metadata": {
  "kernelspec": {
   "display_name": "Python 3",
   "language": "python",
   "name": "python3"
  },
  "language_info": {
   "codemirror_mode": {
    "name": "ipython",
    "version": 3
   },
   "file_extension": ".py",
   "mimetype": "text/x-python",
   "name": "python",
   "nbconvert_exporter": "python",
   "pygments_lexer": "ipython3",
   "version": "3.9.12 (tags/v3.9.12:b28265d, Mar 23 2022, 23:52:46) [MSC v.1929 64 bit (AMD64)]"
  },
  "orig_nbformat": 4,
  "vscode": {
   "interpreter": {
    "hash": "c4b9ebf4ca459396e2ad1150752490c26670c1a037c08cad955a4425787bec2e"
   }
  }
 },
 "nbformat": 4,
 "nbformat_minor": 2
}
