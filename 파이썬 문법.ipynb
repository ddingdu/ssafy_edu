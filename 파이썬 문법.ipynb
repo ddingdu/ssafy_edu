{
 "cells": [
  {
   "cell_type": "code",
   "execution_count": 2,
   "metadata": {},
   "outputs": [
    {
     "name": "stdout",
     "output_type": "stream",
     "text": [
      "20 10\n"
     ]
    }
   ],
   "source": [
    "x = 10\n",
    "y = 20\n",
    "\n",
    "temp = x\n",
    "x = y\n",
    "y = temp\n",
    "print(x,y)"
   ]
  },
  {
   "cell_type": "code",
   "execution_count": 5,
   "metadata": {},
   "outputs": [
    {
     "name": "stdout",
     "output_type": "stream",
     "text": [
      "HELLOWORLD\n",
      "HELLOHELLOHELLO\n"
     ]
    }
   ],
   "source": [
    "print(\"HELLO\"+\"WORLD\")\n",
    "print(\"HELLO\"*3)"
   ]
  },
  {
   "cell_type": "code",
   "execution_count": 9,
   "metadata": {},
   "outputs": [
    {
     "name": "stdout",
     "output_type": "stream",
     "text": [
      "아메리카노는 2000원이고 라떼는 4000원 입니다.\n",
      "아메리카노는 2000원이고 라떼는 4000원 입니다.\n"
     ]
    }
   ],
   "source": [
    "ame = 2000\n",
    "latte = 4000\n",
    "\n",
    "# +연산자를 통한 문자열 연결 str() => 문자열로 만들어주는 함수\n",
    "str1 = \"아메리카노는 \" + str(ame) + \"원이고 라떼는 \" + str(latte) + \"원 입니다.\"\n",
    "# f-string 사용\n",
    "str2 = f\"아메리카노는 {ame}원이고 라떼는 {latte}원 입니다.\"\n",
    "\n",
    "print(str1)  \n",
    "print(str2)"
   ]
  },
  {
   "cell_type": "code",
   "execution_count": 20,
   "metadata": {},
   "outputs": [
    {
     "name": "stdout",
     "output_type": "stream",
     "text": [
      "False\n",
      "True\n",
      "False\n"
     ]
    }
   ],
   "source": [
    "print(3 == 4)\n",
    "print(\"3\" != 3)\n",
    "\n",
    "print(\"HI\" == \"Hi\") # 문자 비교할 때는 대소문자도 같아야 같은 값이다"
   ]
  },
  {
   "cell_type": "code",
   "execution_count": 25,
   "metadata": {},
   "outputs": [
    {
     "name": "stdout",
     "output_type": "stream",
     "text": [
      "True\n",
      "False\n",
      "False\n",
      "False\n",
      "===============\n",
      "True\n",
      "False\n",
      "False\n",
      "False\n"
     ]
    }
   ],
   "source": [
    "print( 3 == 3 and 4 == 4 )\n",
    "print( 4 == 3 and 4 == 4 )\n",
    "print( 4 == 4 and 4 == 3 )\n",
    "print( False and False )\n",
    "print(\"===============\")\n",
    "print( True and True )\n",
    "print( True and False )\n",
    "print( False and True )\n",
    "print( False and False )"
   ]
  },
  {
   "cell_type": "code",
   "execution_count": 26,
   "metadata": {},
   "outputs": [
    {
     "name": "stdout",
     "output_type": "stream",
     "text": [
      "5\n",
      "0\n"
     ]
    }
   ],
   "source": [
    "print(3 and 5)\n",
    "print(3 and 0)"
   ]
  },
  {
   "cell_type": "code",
   "execution_count": 30,
   "metadata": {},
   "outputs": [
    {
     "name": "stdout",
     "output_type": "stream",
     "text": [
      "A\n",
      "['apple', 'banana', 'cherry']\n",
      "apple\n",
      "banana\n",
      "cherry\n",
      "b\n",
      "cherry\n"
     ]
    }
   ],
   "source": [
    "my_list = ['A', 'B', ['apple', 'banana', 'cherry']]\n",
    "\n",
    "print(my_list[0])\n",
    "print(my_list[2])\n",
    "\n",
    "print(my_list[2][0])\n",
    "print(my_list[2][1])\n",
    "print(my_list[2][2])\n",
    "\n",
    "print(my_list[-1][1][0])\n",
    "print(my_list[2][-1])"
   ]
  },
  {
   "cell_type": "code",
   "execution_count": 32,
   "metadata": {},
   "outputs": [
    {
     "name": "stdout",
     "output_type": "stream",
     "text": [
      "['a', 'b', 'c']\n"
     ]
    }
   ],
   "source": [
    "my_dict = {\"a\" : \"AAA\", \"b\" : \"BBB\", \"c\" : \"CCC\"}\n",
    "my_list = list(my_dict)\n",
    "\n",
    "print(my_list)"
   ]
  },
  {
   "cell_type": "code",
   "execution_count": 9,
   "metadata": {},
   "outputs": [
    {
     "name": "stdout",
     "output_type": "stream",
     "text": [
      "짝수\n",
      "짝수\n"
     ]
    }
   ],
   "source": [
    "num = int(input('숫자 입력: '))\n",
    "\n",
    "if num % 2 == 0:    #  if num % 2:\n",
    "    print(\"짝수\")\n",
    "else:\n",
    "    print(\"홀수\")\n",
    "\n",
    "# <조건표현식>으로 짝수 / 홀수 구분\n",
    "num = int(input())\n",
    "\n",
    "value = \"짝수\" if num % 2 == 0 else \"홀수\"\n",
    "print(value)"
   ]
  },
  {
   "cell_type": "code",
   "execution_count": 5,
   "metadata": {},
   "outputs": [
    {
     "name": "stdout",
     "output_type": "stream",
     "text": [
      "매우 나쁨\n",
      "실외 활동을 자제하세요.\n"
     ]
    }
   ],
   "source": [
    "dust = 310\n",
    "\n",
    "if dust > 150:\n",
    "    print(\"매우 나쁨\")\n",
    "    if dust > 300:\n",
    "        print(\"실외 활동을 자제하세요.\")\n",
    "elif dust > 80:\n",
    "    print(\"나쁨\")\n",
    "else:\n",
    "    print(\"좋음\")\n"
   ]
  },
  {
   "cell_type": "code",
   "execution_count": 7,
   "metadata": {},
   "outputs": [
    {
     "name": "stdout",
     "output_type": "stream",
     "text": [
      "10\n"
     ]
    }
   ],
   "source": [
    "# <조건 표현식>\n",
    "num = 10\n",
    "\n",
    "value = num if num >= 0 else -num\n",
    "print(value)"
   ]
  },
  {
   "cell_type": "code",
   "execution_count": 23,
   "metadata": {},
   "outputs": [
    {
     "name": "stdout",
     "output_type": "stream",
     "text": [
      "6\n",
      "7\n",
      "8\n",
      "9\n",
      "끝\n"
     ]
    }
   ],
   "source": [
    "a = 6\n",
    "while a > 5:\n",
    "    print(a)\n",
    "    a += 1\n",
    "    if a == 10:\n",
    "        break\n",
    "print('끝')"
   ]
  },
  {
   "cell_type": "code",
   "execution_count": 12,
   "metadata": {},
   "outputs": [
    {
     "name": "stdout",
     "output_type": "stream",
     "text": [
      "0\n",
      "1\n",
      "2\n",
      "3\n",
      "4\n",
      "6\n",
      "7\n",
      "8\n",
      "9\n"
     ]
    }
   ],
   "source": [
    "for num in range(10):\n",
    "    if num == 5:\n",
    "        continue\n",
    "    print(num)"
   ]
  },
  {
   "cell_type": "code",
   "execution_count": 13,
   "metadata": {},
   "outputs": [
    {
     "name": "stdout",
     "output_type": "stream",
     "text": [
      "0\n",
      "1\n",
      "2\n",
      "3\n",
      "4\n"
     ]
    }
   ],
   "source": [
    "for num in range(10):\n",
    "    if num == 5:\n",
    "        break\n",
    "    print(num)"
   ]
  },
  {
   "cell_type": "code",
   "execution_count": 14,
   "metadata": {},
   "outputs": [
    {
     "name": "stdout",
     "output_type": "stream",
     "text": [
      "h\n",
      "a\n",
      "p\n",
      "p\n",
      "y\n"
     ]
    }
   ],
   "source": [
    "chars = input()\n",
    "\n",
    "for char in chars:\n",
    "    print(char)"
   ]
  },
  {
   "cell_type": "code",
   "execution_count": 16,
   "metadata": {},
   "outputs": [
    {
     "name": "stdout",
     "output_type": "stream",
     "text": [
      "h\n",
      "a\n",
      "p\n",
      "p\n",
      "y\n"
     ]
    }
   ],
   "source": [
    "chars = \"happy\"\n",
    "\n",
    "for idx in range(len(chars)):\n",
    "    print(chars[idx])"
   ]
  },
  {
   "cell_type": "code",
   "execution_count": 27,
   "metadata": {},
   "outputs": [
    {
     "name": "stdout",
     "output_type": "stream",
     "text": [
      "apple\n",
      "banana\n",
      "mango\n",
      "끝\n",
      "ee\n",
      "ee\n",
      "ee\n",
      "ee\n",
      "ee\n"
     ]
    }
   ],
   "source": [
    "fruits = ['apple','banana','mango']\n",
    "\n",
    "for fruit in fruits:\n",
    "    print(fruit)\n",
    "print('끝')\n",
    "\n",
    "for _ in range(5):\n",
    "    print(\"ee\")"
   ]
  },
  {
   "cell_type": "code",
   "execution_count": 33,
   "metadata": {},
   "outputs": [
    {
     "name": "stdout",
     "output_type": "stream",
     "text": [
      "[1, 4, 9, 16, 25, 36, 49, 64, 81, 100]\n",
      "[1, 4, 9, 16, 25, 36, 49, 64, 81, 100]\n",
      "[4, 16, 36, 64, 100]\n"
     ]
    }
   ],
   "source": [
    "# 1 부터 10까지 숫자를 제곱해서 리스트 만들기\n",
    "# my_list = [1,4,9,...]\n",
    "\n",
    "my_list = []\n",
    "for i in range(1,11):\n",
    "    my_list.append(i * i)\n",
    "\n",
    "print(my_list)\n",
    "\n",
    "# < List Comprehension >\n",
    "my_list = [num ** 2 for num in range(1,11)]\n",
    "print(my_list)\n",
    "\n",
    "# if로 조건식 추가\n",
    "my_list = [num ** 2 for num in range(1,11) if num % 2 == 0]\n",
    "print(my_list)"
   ]
  },
  {
   "cell_type": "code",
   "execution_count": 35,
   "metadata": {},
   "outputs": [
    {
     "name": "stdout",
     "output_type": "stream",
     "text": [
      "{1: 1, 2: 4, 3: 9, 4: 16, 5: 25, 6: 36, 7: 49, 8: 64, 9: 81, 10: 100}\n",
      "{2: 4, 4: 16, 6: 36, 8: 64, 10: 100}\n"
     ]
    }
   ],
   "source": [
    "# < Dictionary Comprehension >\n",
    "my_dict = {num:num**2 for num in range(1,11)}\n",
    "print(my_dict)\n",
    "\n",
    "my_dict = {num:num**2 for num in range(1,11) if num%2 == 0}\n",
    "print(my_dict)"
   ]
  },
  {
   "cell_type": "code",
   "execution_count": 39,
   "metadata": {},
   "outputs": [
    {
     "name": "stdout",
     "output_type": "stream",
     "text": [
      "0\n",
      "1\n",
      "2\n",
      "0\n",
      "1\n",
      "0과 1만 필요해!\n"
     ]
    }
   ],
   "source": [
    "n = 0\n",
    "while True:\n",
    "    if n == 3:\n",
    "        break\n",
    "    print(n)\n",
    "    n += 1\n",
    "\n",
    "for i in range(10):\n",
    "    if i > 1:\n",
    "        print('0과 1만 필요해!')\n",
    "        break\n",
    "    print(i)"
   ]
  },
  {
   "cell_type": "code",
   "execution_count": 40,
   "metadata": {},
   "outputs": [
    {
     "name": "stdout",
     "output_type": "stream",
     "text": [
      "1\n",
      "3\n",
      "5\n"
     ]
    }
   ],
   "source": [
    "for i in range(6):\n",
    "    if i % 2 == 0:\n",
    "        continue\n",
    "    print(i)"
   ]
  },
  {
   "cell_type": "code",
   "execution_count": 47,
   "metadata": {},
   "outputs": [
    {
     "name": "stdout",
     "output_type": "stream",
     "text": [
      "2 * 1 = 2\n",
      "2 * 2 = 4\n",
      "2 * 3 = 6\n",
      "2 * 4 = 8\n",
      "2 * 6 = 12\n",
      "2 * 7 = 14\n",
      "2 * 8 = 16\n",
      "2 * 9 = 18\n"
     ]
    }
   ],
   "source": [
    "# continue 사용\n",
    "\n",
    "# 2단부터 9단까지 출력\n",
    "# 중간에 5를 곱하는 부분은 빼고 출력\n",
    "\n",
    "# <2단>\n",
    "for num in range(1,10):\n",
    "    if num == 5:\n",
    "        continue\n",
    "    print(f\"2 * {num} = {2*num}\")\n",
    "\n",
    "# \n",
    "for left in range(2,10):\n",
    "    for num in range(1,10):\n",
    "        if num == 5:\n",
    "            continue\n",
    "        print(f\"2 * {num} = {2*num}\")\n",
    "\n"
   ]
  },
  {
   "cell_type": "code",
   "execution_count": 52,
   "metadata": {},
   "outputs": [
    {
     "name": "stdout",
     "output_type": "stream",
     "text": [
      "john 80\n",
      "eric 90\n"
     ]
    }
   ],
   "source": [
    "grades = {'john': 80, 'eric': 90}\n",
    "for a in grades:\n",
    "    print(a,grades[a])\n"
   ]
  },
  {
   "cell_type": "code",
   "execution_count": 3,
   "metadata": {},
   "outputs": [
    {
     "name": "stdout",
     "output_type": "stream",
     "text": [
      "[1, 2, 3, 4]\n"
     ]
    }
   ],
   "source": [
    "my_list = [1,2,3,4]\n",
    "\n",
    "def func1():\n",
    "    my_list = [5,6,7]\n",
    "    # my_list[1] = 5554\n",
    "\n",
    "func1()\n",
    "print(my_list)"
   ]
  },
  {
   "cell_type": "code",
   "execution_count": 4,
   "metadata": {},
   "outputs": [
    {
     "name": "stdout",
     "output_type": "stream",
     "text": [
      "1\n"
     ]
    }
   ],
   "source": [
    "x = 1\n",
    "\n",
    "def func1():\n",
    "    x = 2\n",
    "\n",
    "    def func2():\n",
    "        x = 3\n",
    "\n",
    "    func2()\n",
    "\n",
    "func1()\n",
    "print(x)  "
   ]
  },
  {
   "cell_type": "code",
   "execution_count": 6,
   "metadata": {},
   "outputs": [
    {
     "name": "stdout",
     "output_type": "stream",
     "text": [
      "3\n",
      "3\n",
      "1\n"
     ]
    }
   ],
   "source": [
    "x = 1\n",
    "\n",
    "def func1():\n",
    "    x = 2\n",
    "\n",
    "    def func2():\n",
    "        nonlocal x # 331  # global x : 323\n",
    "        x = 3\n",
    "        print(x)\n",
    "\n",
    "    func2()\n",
    "    print(x)\n",
    "\n",
    "func1()\n",
    "print(x)"
   ]
  },
  {
   "cell_type": "code",
   "execution_count": 1,
   "metadata": {},
   "outputs": [
    {
     "name": "stdout",
     "output_type": "stream",
     "text": [
      "20\n"
     ]
    },
    {
     "ename": "NameError",
     "evalue": "name 'x' is not defined",
     "output_type": "error",
     "traceback": [
      "\u001b[1;31m---------------------------------------------------------------------------\u001b[0m",
      "\u001b[1;31mNameError\u001b[0m                                 Traceback (most recent call last)",
      "Cell \u001b[1;32mIn[1], line 13\u001b[0m\n\u001b[0;32m     10\u001b[0m     \u001b[39mprint\u001b[39m(x)\n\u001b[0;32m     12\u001b[0m func1()\n\u001b[1;32m---> 13\u001b[0m \u001b[39mprint\u001b[39m(x)\n",
      "\u001b[1;31mNameError\u001b[0m: name 'x' is not defined"
     ]
    }
   ],
   "source": [
    "def func1():\n",
    "    x = 10\n",
    "\n",
    "    def func2():\n",
    "        nonlocal x\n",
    "        \n",
    "        x = 20\n",
    "\n",
    "    func2()\n",
    "    print(x)\n",
    "\n",
    "func1()\n",
    "print(x)"
   ]
  },
  {
   "cell_type": "code",
   "execution_count": 5,
   "metadata": {},
   "outputs": [
    {
     "name": "stdout",
     "output_type": "stream",
     "text": [
      "0\n",
      "1\n",
      "1\n",
      "2\n",
      "2\n",
      "3\n",
      "3\n",
      "4\n",
      "4\n",
      "5\n"
     ]
    }
   ],
   "source": [
    "cnt = 0\n",
    "\n",
    "for i in range(5):\n",
    "    cnt += 1\n",
    "    \n",
    "    print(i) #0 1 2 3 4 \n",
    "    print(cnt) # 1 2 3 4 5\n",
    "\n",
    "# 0 1 2 3 4 출력하려면..?\n"
   ]
  },
  {
   "cell_type": "code",
   "execution_count": 5,
   "metadata": {},
   "outputs": [
    {
     "name": "stdout",
     "output_type": "stream",
     "text": [
      "10\n",
      "20\n",
      "20\n",
      "10\n"
     ]
    }
   ],
   "source": [
    "# global\n",
    "\n",
    "v1 = 10\n",
    "\n",
    "def func1():\n",
    "    # func1 의 local\n",
    "    v2 = 20\n",
    "    print(v1)\n",
    "    print(v2)\n",
    "\n",
    "def func2():\n",
    "    # func2 의 local\n",
    "    v3 = 20\n",
    "    print(v3)\n",
    "    print(v1)\n",
    "    # print(v2) : 오류 ! ==> v2는  func1의 변수이기 때문에 사용할 수 없음 !\n",
    "\n",
    "func1()\n",
    "func2()"
   ]
  },
  {
   "cell_type": "code",
   "execution_count": 1,
   "metadata": {},
   "outputs": [
    {
     "name": "stdout",
     "output_type": "stream",
     "text": [
      "<built-in function sum>\n",
      "1\n",
      "5\n"
     ]
    },
    {
     "ename": "TypeError",
     "evalue": "'int' object is not callable",
     "output_type": "error",
     "traceback": [
      "\u001b[1;31m---------------------------------------------------------------------------\u001b[0m",
      "\u001b[1;31mTypeError\u001b[0m                                 Traceback (most recent call last)",
      "Cell \u001b[1;32mIn[1], line 6\u001b[0m\n\u001b[0;32m      4\u001b[0m \u001b[39msum\u001b[39m \u001b[39m=\u001b[39m \u001b[39m5\u001b[39m\n\u001b[0;32m      5\u001b[0m \u001b[39mprint\u001b[39m(\u001b[39msum\u001b[39m)\n\u001b[1;32m----> 6\u001b[0m \u001b[39mprint\u001b[39m(\u001b[39msum\u001b[39;49m(\u001b[39mrange\u001b[39;49m(\u001b[39m2\u001b[39;49m)))\n\u001b[0;32m      8\u001b[0m \u001b[39m# LEGB 예시2\u001b[39;00m\n\u001b[0;32m      9\u001b[0m \u001b[39m# a = 0\u001b[39;00m\n\u001b[0;32m     10\u001b[0m \u001b[39m# b = 1\u001b[39;00m\n\u001b[1;32m   (...)\u001b[0m\n\u001b[0;32m     18\u001b[0m \u001b[39m# enclosed()\u001b[39;00m\n\u001b[0;32m     19\u001b[0m \u001b[39m# print(a, b)\u001b[39;00m\n",
      "\u001b[1;31mTypeError\u001b[0m: 'int' object is not callable"
     ]
    }
   ],
   "source": [
    "# LEGB 예시1\n",
    "print(sum)\n",
    "print(sum(range(2)))\n",
    "sum = 5\n",
    "print(sum)\n",
    "print(sum(range(2)))\n",
    "\n",
    "# LEGB 예시2\n",
    "# a = 0\n",
    "# b = 1\n",
    "# def enclosed():\n",
    "#     a = 10\n",
    "#     c = 3\n",
    "#     def local(c):\n",
    "#         print(a, b, c)\n",
    "#     local(300)\n",
    "#     print(a, b, c)\n",
    "# enclosed()\n",
    "# print(a, b)"
   ]
  },
  {
   "cell_type": "code",
   "execution_count": null,
   "metadata": {},
   "outputs": [],
   "source": [
    "# List 의 List\n",
    "\n",
    "#동서남북\n",
    "dx = [0,0,1,-1]\n",
    "dy = [1,-1,0,0]\n",
    "#상하좌우\n",
    "dx =\n",
    "dy ="
   ]
  },
  {
   "cell_type": "code",
   "execution_count": 11,
   "metadata": {},
   "outputs": [
    {
     "name": "stdout",
     "output_type": "stream",
     "text": [
      "[10, 20, 30, 40, 50]\n",
      "신동민 17\n",
      "서재현 18\n",
      "박영서 22\n"
     ]
    },
    {
     "data": {
      "text/plain": [
       "4"
      ]
     },
     "execution_count": 11,
     "metadata": {},
     "output_type": "execute_result"
    }
   ],
   "source": [
    "# 1/19(목)\n",
    "# 함수 응용 : buil-in function 의 map / zip (7p)\n",
    "\n",
    "# map\n",
    "def my_magic_func(n):\n",
    "    return n * 10\n",
    "\n",
    "my_list = [1, 2, 3, 4, 5]\n",
    "\n",
    "map_obj = map(my_magic_func, my_list)\n",
    "print(list(map_obj))\n",
    "\n",
    "# zip\n",
    "name_list = ['신동민','서재현','박영서']\n",
    "age_list = [17,18,22]\n",
    "\n",
    "for name, age in zip(name_list, age_list):\n",
    "    print(name, age)\n",
    "\n",
    "# lambda\n",
    "\n",
    "# def my_magic_func(n):\n",
    "#     return n * 10\n",
    "\n",
    "map_obj = map(my_magic_func, [1,2,3])\n",
    "rlt = list(map_obj)\n",
    "\n",
    "print(rlt)\n",
    "\n",
    "\n",
    "# (lambda x : x * x)(4)\n",
    "\n",
    "# my_func = lambda n : n * 2\n",
    "# my_func(2)\n",
    "\n",
    "# def pow(x):\n",
    "#     return x * x\n",
    "\n"
   ]
  },
  {
   "cell_type": "code",
   "execution_count": 1,
   "metadata": {},
   "outputs": [
    {
     "ename": "",
     "evalue": "",
     "output_type": "error",
     "traceback": [
      "\u001b[1;31mCanceled future for execute_request message before replies were done"
     ]
    },
    {
     "ename": "",
     "evalue": "",
     "output_type": "error",
     "traceback": [
      "\u001b[1;31m현재 셀 또는 이전 셀에서 코드를 실행하는 동안 Kernel이 충돌했습니다. 셀의 코드를 검토하여 오류의 가능한 원인을 식별하세요. 자세한 내용을 보려면 <a href='https://aka.ms/vscodeJupyterKernelCrash'> 여기 </a> 를 클릭하세요. 자세한 내용은 Jupyter <a href='command:jupyter.viewOutput'>로그</a>를 참조하세요."
     ]
    }
   ],
   "source": [
    "# 재귀함수 : 자기 자신을 호출하는 함수\n",
    "\n",
    "def recur():\n",
    "    print('뿅')\n",
    "    recur()\n",
    "\n",
    "recur()\n",
    "\n",
    "def fac(n):\n",
    "    return n * fac(n-1)\n"
   ]
  },
  {
   "cell_type": "code",
   "execution_count": 2,
   "metadata": {},
   "outputs": [
    {
     "name": "stdout",
     "output_type": "stream",
     "text": [
      "{'name': 'aiden', 'age': 21} <class 'dict'>\n"
     ]
    },
    {
     "data": {
      "text/plain": [
       "{'name': 'aiden', 'age': 21}"
      ]
     },
     "execution_count": 2,
     "metadata": {},
     "output_type": "execute_result"
    }
   ],
   "source": [
    "# # 패킹\n",
    "# a,*b = 1, 2, 3, 4\n",
    "# print(a, b) # 1 (2, 3, 4)\n",
    "\n",
    "# # 언패킹\n",
    "# def my_sum(a, b, c):\n",
    "#     return a + b + c\n",
    "\n",
    "# num_list = [10, 20, 30]\n",
    "\n",
    "# # rlt = my_sum(num_list[0], num_list[1], num_list[2])\n",
    "# rlt = my_sum(*num_list)\n",
    "# print(rlt)  # 60\n",
    "\n",
    "\n",
    "# # 매개 변수를 가변적으로 받을 수 있는 함수를 만들 수 있다. '가변 인자'\n",
    "# def test(*values):\n",
    "#     for value in values:\n",
    "#         print(value)\n",
    "\n",
    "# test(1)\n",
    "# test(1, 2)\n",
    "# test(1, 2, 3, 4)\n",
    "\n",
    "\n",
    "# def my_sum(*args):\n",
    "#     rlt = 0\n",
    "#     for value in args:\n",
    "#         rlt += value\n",
    "#     return rlt\n",
    "\n",
    "# my_sum()    # 0\n",
    "# my_sum(1, 2, 3) # 6\n",
    "\n",
    "# def my_sum(a, *args):   # 한개는 꼭 ~\n",
    "#     rlt = 0\n",
    "#     for value in args:  # agrs = arguments\n",
    "#         rlt += value\n",
    "#     return rlt\n",
    "\n",
    "# # my_sum()    # 에러!\n",
    "# my_sum(1, 2, 3) # 5\n",
    "\n",
    "\n",
    "# def test(**kwargs):\n",
    "#     # print(kwargs, type(kwargs))\n",
    "#     return kwargs\n",
    "\n",
    "# test(name='aiden', age=21)\n",
    "\n",
    "\n",
    "# def test(*args,**kwargs):\n",
    "#     print(kwargs, type(kwargs))\n",
    "#     kwargs['name']\n",
    "#     return kwargs\n",
    "\n",
    "# test(1, 2, 3, 4, name='aiden', age=21)\n"
   ]
  },
  {
   "cell_type": "code",
   "execution_count": 13,
   "metadata": {},
   "outputs": [
    {
     "name": "stdout",
     "output_type": "stream",
     "text": [
      "[1, 3, 2, 4]\n",
      "[2, 1, 4, 3]\n"
     ]
    }
   ],
   "source": [
    "from random import shuffle\n",
    "\n",
    "num_list = [1, 2, 3, 4]\n",
    "shuffle(num_list)\n",
    "print(num_list)\n",
    "\n",
    "\n",
    "import random\n",
    "\n",
    "num_list = [1, 2, 3, 4]\n",
    "random.shuffle(num_list)\n",
    "print(num_list)"
   ]
  },
  {
   "cell_type": "code",
   "execution_count": null,
   "metadata": {},
   "outputs": [],
   "source": [
    "## 가상 환경\n",
    "\n",
    "- 프로젝트마다 다른 실행 환경을 위해서 전역 설정과 독립적인 실행 환경을 생성\n",
    "\n",
    "## 주의해야 할 점 : 꼭 작업 경로를 확인해라\n",
    "\n",
    "### 가상환겯 생성 방법\n",
    "\n",
    "''' \n",
    "python -m venv <폴더이름>\n",
    "'''\n",
    "\n",
    "### 가상환경 활성화 방법 (bash 기준)\n",
    "'''\n",
    "source <폴더이름>/Scripts/activate\n",
    "'''\n",
    "\n",
    "### 환경에서 사용했던 패키지 목록 추출 방법\n",
    "'''\n",
    "pip freeze > <파일이름>\n",
    "'''\n",
    "\n",
    "### 다른 환경에서 패키지 목록 사용해서 설치하기\n",
    "'''\n",
    "pip install -r <파일이름>\n",
    "'''"
   ]
  }
 ],
 "metadata": {
  "kernelspec": {
   "display_name": "Python 3",
   "language": "python",
   "name": "python3"
  },
  "language_info": {
   "codemirror_mode": {
    "name": "ipython",
    "version": 3
   },
   "file_extension": ".py",
   "mimetype": "text/x-python",
   "name": "python",
   "nbconvert_exporter": "python",
   "pygments_lexer": "ipython3",
   "version": "3.9.12 (tags/v3.9.12:b28265d, Mar 23 2022, 23:52:46) [MSC v.1929 64 bit (AMD64)]"
  },
  "orig_nbformat": 4,
  "vscode": {
   "interpreter": {
    "hash": "c4b9ebf4ca459396e2ad1150752490c26670c1a037c08cad955a4425787bec2e"
   }
  }
 },
 "nbformat": 4,
 "nbformat_minor": 2
}
