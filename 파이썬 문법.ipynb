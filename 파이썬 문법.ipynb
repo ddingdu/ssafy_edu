{
 "cells": [
  {
   "cell_type": "code",
   "execution_count": 2,
   "metadata": {},
   "outputs": [
    {
     "name": "stdout",
     "output_type": "stream",
     "text": [
      "20 10\n"
     ]
    }
   ],
   "source": [
    "x = 10\n",
    "y = 20\n",
    "\n",
    "temp = x\n",
    "x = y\n",
    "y = temp\n",
    "print(x,y)"
   ]
  },
  {
   "cell_type": "code",
   "execution_count": 5,
   "metadata": {},
   "outputs": [
    {
     "name": "stdout",
     "output_type": "stream",
     "text": [
      "HELLOWORLD\n",
      "HELLOHELLOHELLO\n"
     ]
    }
   ],
   "source": [
    "print(\"HELLO\"+\"WORLD\")\n",
    "print(\"HELLO\"*3)"
   ]
  },
  {
   "cell_type": "code",
   "execution_count": 9,
   "metadata": {},
   "outputs": [
    {
     "name": "stdout",
     "output_type": "stream",
     "text": [
      "아메리카노는 2000원이고 라떼는 4000원 입니다.\n",
      "아메리카노는 2000원이고 라떼는 4000원 입니다.\n"
     ]
    }
   ],
   "source": [
    "ame = 2000\n",
    "latte = 4000\n",
    "\n",
    "# +연산자를 통한 문자열 연결 str() => 문자열로 만들어주는 함수\n",
    "str1 = \"아메리카노는 \" + str(ame) + \"원이고 라떼는 \" + str(latte) + \"원 입니다.\"\n",
    "# f-string 사용\n",
    "str2 = f\"아메리카노는 {ame}원이고 라떼는 {latte}원 입니다.\"\n",
    "\n",
    "print(str1)\n",
    "print(str2)"
   ]
  },
  {
   "cell_type": "code",
   "execution_count": 20,
   "metadata": {},
   "outputs": [
    {
     "name": "stdout",
     "output_type": "stream",
     "text": [
      "False\n",
      "True\n",
      "False\n"
     ]
    }
   ],
   "source": [
    "print(3 == 4)\n",
    "print(\"3\" != 3)\n",
    "\n",
    "print(\"HI\" == \"Hi\") # 문자 비교할 때는 대소문자도 같아야 같은 값이다"
   ]
  },
  {
   "cell_type": "code",
   "execution_count": 25,
   "metadata": {},
   "outputs": [
    {
     "name": "stdout",
     "output_type": "stream",
     "text": [
      "True\n",
      "False\n",
      "False\n",
      "False\n",
      "===============\n",
      "True\n",
      "False\n",
      "False\n",
      "False\n"
     ]
    }
   ],
   "source": [
    "print( 3 == 3 and 4 == 4 )\n",
    "print( 4 == 3 and 4 == 4 )\n",
    "print( 4 == 4 and 4 == 3 )\n",
    "print( False and False )\n",
    "print(\"===============\")\n",
    "print( True and True )\n",
    "print( True and False )\n",
    "print( False and True )\n",
    "print( False and False )"
   ]
  },
  {
   "cell_type": "code",
   "execution_count": 26,
   "metadata": {},
   "outputs": [
    {
     "name": "stdout",
     "output_type": "stream",
     "text": [
      "5\n",
      "0\n"
     ]
    }
   ],
   "source": [
    "print(3 and 5)\n",
    "print(3 and 0)"
   ]
  },
  {
   "cell_type": "code",
   "execution_count": 30,
   "metadata": {},
   "outputs": [
    {
     "name": "stdout",
     "output_type": "stream",
     "text": [
      "A\n",
      "['apple', 'banana', 'cherry']\n",
      "apple\n",
      "banana\n",
      "cherry\n",
      "b\n",
      "cherry\n"
     ]
    }
   ],
   "source": [
    "my_list = ['A', 'B', ['apple', 'banana', 'cherry']]\n",
    "\n",
    "print(my_list[0])\n",
    "print(my_list[2])\n",
    "\n",
    "print(my_list[2][0])\n",
    "print(my_list[2][1])\n",
    "print(my_list[2][2])\n",
    "\n",
    "print(my_list[-1][1][0])\n",
    "print(my_list[2][-1])"
   ]
  },
  {
   "cell_type": "code",
   "execution_count": 32,
   "metadata": {},
   "outputs": [
    {
     "name": "stdout",
     "output_type": "stream",
     "text": [
      "['a', 'b', 'c']\n"
     ]
    }
   ],
   "source": [
    "my_dict = {\"a\" : \"AAA\", \"b\" : \"BBB\", \"c\" : \"CCC\"}\n",
    "my_list = list(my_dict)\n",
    "\n",
    "print(my_list)"
   ]
  }
 ],
 "metadata": {
  "kernelspec": {
   "display_name": "Python 3",
   "language": "python",
   "name": "python3"
  },
  "language_info": {
   "codemirror_mode": {
    "name": "ipython",
    "version": 3
   },
   "file_extension": ".py",
   "mimetype": "text/x-python",
   "name": "python",
   "nbconvert_exporter": "python",
   "pygments_lexer": "ipython3",
   "version": "3.9.12"
  },
  "orig_nbformat": 4,
  "vscode": {
   "interpreter": {
    "hash": "c4b9ebf4ca459396e2ad1150752490c26670c1a037c08cad955a4425787bec2e"
   }
  }
 },
 "nbformat": 4,
 "nbformat_minor": 2
}
