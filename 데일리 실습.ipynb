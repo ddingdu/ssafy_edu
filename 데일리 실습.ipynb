{
 "cells": [
  {
   "cell_type": "code",
   "execution_count": 2,
   "metadata": {},
   "outputs": [
    {
     "name": "stdout",
     "output_type": "stream",
     "text": [
      "6\n"
     ]
    }
   ],
   "source": [
    "# 실습 1-2\n",
    "board = input(\"게시글의 총 갯수를 입력하세요:\")\n",
    "board2 = input(\"한 페이지에 필요한 게시글 수를 입력하세요:\")\n",
    "\n",
    "\n",
    "a, b = divmod(int(board),int(board2))\n",
    "\n",
    "if b > 0:\n",
    "    a = a+1\n",
    "    \n",
    "print(a)"
   ]
  },
  {
   "cell_type": "code",
   "execution_count": 8,
   "metadata": {},
   "outputs": [
    {
     "name": "stdout",
     "output_type": "stream",
     "text": [
      "# 김코딩\n",
      "\n",
      "# 이싸피\n"
     ]
    }
   ],
   "source": [
    "# 실습 1-3\n",
    "person1 = input()\n",
    "person2 = input()\n",
    "print(f\"# {person1}\\n\\n# {person2}\")"
   ]
  },
  {
   "cell_type": "code",
   "execution_count": 10,
   "metadata": {},
   "outputs": [
    {
     "name": "stdout",
     "output_type": "stream",
     "text": [
      "27\n"
     ]
    }
   ],
   "source": [
    "# 실습 1-4\n",
    "    # 1000 미만\n",
    "result = 0\n",
    "for i in range(1, 1000):\n",
    "    if i % 2 == 0 or i % 7 == 0:\n",
    "        result += i\n",
    "print(result)\n",
    "\n",
    "    # 10 미만\n",
    "result = 0\n",
    "for i in range(1, 10):\n",
    "    if i % 2 == 0 or i % 7 == 0:\n",
    "        result += i\n",
    "print(result)"
   ]
  },
  {
   "cell_type": "code",
   "execution_count": 16,
   "metadata": {},
   "outputs": [
    {
     "name": "stdout",
     "output_type": "stream",
     "text": [
      "****\n",
      "****\n",
      "****\n",
      "****\n",
      "****\n"
     ]
    }
   ],
   "source": [
    "# 실습 1-5\n",
    "m = 5\n",
    "n = 4\n",
    "\n",
    "for s in range(0,m):\n",
    "    print(\"*\"*n)\n"
   ]
  },
  {
   "cell_type": "code",
   "execution_count": 40,
   "metadata": {},
   "outputs": [
    {
     "name": "stdout",
     "output_type": "stream",
     "text": [
      "['python', 'django', 'web', 'algorithm']\n",
      "dict_keys(['python', 'django', 'web', 'algorithm'])\n",
      "[85, 89, 83, 90]\n",
      "dict_values([85, 89, 83, 90])\n"
     ]
    }
   ],
   "source": [
    "# 1/16(월) 과제1\n",
    "score = {\n",
    "    'python': 80,\n",
    "    'django': 89,\n",
    "    'web': 83\n",
    "}\n",
    "\n",
    "score[\"algorithm\"] = 80\n",
    "score[\"python\"] = 85\n",
    "\n",
    "print(sum(score.values())/len(score))\n",
    "\n",
    "    # 딕셔너리 key:value 각각 추출하는 연습\n",
    "# my_subject = list(score)\n",
    "# my_subjects = score.keys()\n",
    "# my_score = list(score.values())\n",
    "# my_scores = score.values()\n",
    "\n",
    "\n",
    "# print(my_subject)\n",
    "# print(my_subjects)\n",
    "# print(my_score)\n",
    "# print(my_scores)"
   ]
  },
  {
   "cell_type": "code",
   "execution_count": 52,
   "metadata": {},
   "outputs": [
    {
     "name": "stdout",
     "output_type": "stream",
     "text": [
      "6\n"
     ]
    }
   ],
   "source": [
    "# 1/16(월) 과제2\n",
    "s = input('숫자를 입력해주세요 : ')\n",
    "\n",
    "# result = 0   \n",
    "# for i in s:\n",
    "#     result += int(i)\n",
    "\n",
    "# print(result)\n",
    "\n",
    "\n",
    "number = list(s)\n",
    "length = len(s)\n",
    "\n",
    "ans = 0\n",
    "\n",
    "for i in range(0, length):\n",
    "    ans += int(number[i])\n",
    "\n",
    "print(ans)       "
   ]
  },
  {
   "cell_type": "code",
   "execution_count": 51,
   "metadata": {},
   "outputs": [
    {
     "name": "stdout",
     "output_type": "stream",
     "text": [
      "-3.0 3.0\n"
     ]
    }
   ],
   "source": [
    "# 실습 2-1\n",
    "# a = 3\n",
    "# b = 6\n",
    "# c = -5\n",
    "\n",
    "# 제곱근 구하기 : **0.5\n",
    "\n",
    "# print(round(((-b)+((b**2)-(4*a*c))**(0.5))/(2*a),3))\n",
    "# print(round(((-b)-((b**2)-(4*a*c))**(0.5))/(2*a),3))\n",
    "\n",
    "\n",
    "    #교수님 풀이 # 터미널에 numpy 설치 : pip install numpy\n",
    "import numpy as np\n",
    "\n",
    "a = 1\n",
    "b = 0\n",
    "c = -9\n",
    "\n",
    "coeff = [a,b,c]\n",
    "lower_x, upper_x = np.roots(coeff)\n",
    "print(round(lower_x,4), round(upper_x,4))\n",
    "\n"
   ]
  },
  {
   "cell_type": "code",
   "execution_count": 10,
   "metadata": {},
   "outputs": [
    {
     "name": "stdout",
     "output_type": "stream",
     "text": [
      "취업 준비생에게 SW 역량 향상 교육 및 다양한 취업지원 서비스를 제공하여 취업에 성공하도록 돕는 프로그램입니다.\n"
     ]
    }
   ],
   "source": [
    "# 실습 2-2\n",
    "html_text = input()\n",
    "\n",
    "result = html_text[3:-4]\n",
    "print(result)\n"
   ]
  },
  {
   "cell_type": "code",
   "execution_count": 16,
   "metadata": {},
   "outputs": [
    {
     "name": "stdout",
     "output_type": "stream",
     "text": [
      "Pass\n"
     ]
    }
   ],
   "source": [
    "#실습 2-3\n",
    "str_lst = input('문자열을 입력하세요. : ') # saFe eMotion Nail\n",
    "\n",
    "words_lst = list(str_lst.lower().split())\n",
    "if words_lst[0][-1] == words_lst[1][0] and words_lst[1][-1] == words_lst[2][0]:\n",
    "    print(\"Pass\")\n",
    "else:\n",
    "    print(\"Fail\")\n",
    "\n",
    "\t#재만님 풀이\n",
    "# str_lst = input('문자열을 입력하세요. : ')\n",
    "\n",
    "# f_word,s_word,t_word = str_lst.lower().split()\n",
    "\n",
    "# if f_word[-1] == s_word[0] and s_word[-1] == t_word[0]:\n",
    "#     print(\"Pass\")\n",
    "# else : \n",
    "#     print(\"Fail\")"
   ]
  },
  {
   "cell_type": "code",
   "execution_count": 55,
   "metadata": {},
   "outputs": [
    {
     "name": "stdout",
     "output_type": "stream",
     "text": [
      "['핫초코', '아메', '라떼', '딸기']\n"
     ]
    }
   ],
   "source": [
    "#실습 2-4 #서식 명세 사용(왼쪽정렬, 오른쪽정렬)\n",
    "\n",
    "# 출력 결과 예시\n",
    "# 스테이크   50,000 \n",
    "# + VAT     7,500\n",
    "# 총계 ₩    57,500\n",
    "\n",
    "\n",
    "# stk = 50000\n",
    "# stk_v = stk * 0.15\n",
    "# stk_sum = stk + stk_v\n",
    "\n",
    "# stk_f = format(stk,',')\n",
    "# stk_v_f = format(int(stk_v),',')\n",
    "# stk_sum_f = format(int(stk_sum),',')\n",
    "\n",
    "# print(f\"스테이크   {stk_f}\\n+ VAT     {stk_v_f}\\n총계 ₩    {stk_sum_f}\")\n",
    "\n",
    "# :>len 오른쪽정렬, len만큼 칸을 확보\n",
    "# :<len 왼쪽정렬, len만큼 칸을 확보\n",
    "# :^len 가운데정렬, len만큼 칸을 확보  \n",
    "\n",
    "# steak = 50000\n",
    "# print(f\"스테이크{steak:>10}스테이크\")\n",
    "# print(f\"스테이크{steak:^10}스테이크\")\n",
    "# print(f\"스테이크{steak:<10}스테이크\")\n",
    "\n",
    "\n"
   ]
  },
  {
   "cell_type": "code",
   "execution_count": 74,
   "metadata": {},
   "outputs": [
    {
     "name": "stdout",
     "output_type": "stream",
     "text": [
      "[('Python Homework', 3), ('Assay', 4), ('Vacation', 100), ('Soccer Contest', 10)]\n"
     ]
    }
   ],
   "source": [
    "# 실습 2-5\n",
    "# Soccer Contest 10\n",
    "todo = [(\"Python Homework\", 3), (\"Assay\", 4), (\"Vacation\", 100)]\n",
    "\n",
    "todo_list = list(todo)\n",
    "\n",
    "todo_n = input()\n",
    "todo_d = int(input())\n",
    "\n",
    "new = (todo_n,todo_d)\n",
    "todo_list.append(new)\n",
    "\n",
    "print(todo_list)"
   ]
  },
  {
   "cell_type": "code",
   "execution_count": 66,
   "metadata": {},
   "outputs": [
    {
     "name": "stdout",
     "output_type": "stream",
     "text": [
      "4\n",
      "['핫초코', '아메', '라떼', '딸기']\n",
      "2\n",
      "0\n",
      "{'아메리카노': 1, '핫초코': 1, '라떼': 1, '딸기딜라이트': 2}\n"
     ]
    }
   ],
   "source": [
    "# 과제 2-2 교수님\n",
    "# orders = '아이스아메리카노,카라멜마키야또,에스프레소,아메리카노,아메리카노,아이스라떼,핫초코,아이스아메리카노,아메리카노,아이스카라멜마키야또,아이스라떼,라떼마키야또,카푸치노,라떼마키야또'\n",
    "orders = '아메,라떼,핫초코,딸기'\n",
    "\n",
    "print(len(orders.split(\",\")))\n",
    "\n",
    "orders = [\"아메\",\"라떼\",\"핫초코\",\"딸기\"]\n",
    "\n",
    "set_orders = set(orders)\n",
    "list_orders = list(set_orders)\n",
    "\n",
    "print(sorted(list_orders, reverse=True))\n",
    "\n",
    "\n",
    "# 과제 2-4 교수님\n",
    "\n",
    "# count(\"문자열\")\n",
    "# 해당 문자열에서 단어가 몇번 나오는지 횟수를 세준다.\n",
    "orders = \"아이스아메리카노,핫초코,아이스라떼,딸기딜라이트,딸기딜라이트\"\n",
    "\n",
    "print(orders.count(\"아이스\"))\n",
    "orders = [\"아메리카노\",\"핫초코\",\"라떼\",\"딸기딜라이트\",\"딸기딜라이트\"]\n",
    "\n",
    "# find(\"문자열\")\n",
    "# 문자열이 시작되는 index 찾아서 변환\n",
    "\n",
    "cnt = 0\n",
    "for order in orders:\n",
    "    if order == \"딸기\":\n",
    "        cnt += 1\n",
    "print(cnt)\n",
    "\n",
    "orders_dict = {} # 빈 딕셔너리를 생성 dict()\n",
    "# 리스트를 순회하면서 메뉴를 확인\n",
    "for order in orders:\n",
    "    # order 가 내가 만든 딕셔너리의 키에 포함되어 있지 않다면\n",
    "        # (=> 지금까지 한번도 등장한적 없는 메뉴)\n",
    "    # 그 order에 매칭되는 값을 0으로 초기화\n",
    "    # key = 메뉴이름, value = 주문건수\n",
    "    \n",
    "    if order not in orders_dict.keys():\n",
    "        orders_dict[order] = 0\n",
    "    # order 가 내가 만든 딕셔너리의 키에 포함되어 있다 (=> 이전에 등장한 메뉴)\n",
    "    orders_dict[order] += 1\n",
    "\n",
    "print(orders_dict)"
   ]
  },
  {
   "cell_type": "code",
   "execution_count": null,
   "metadata": {},
   "outputs": [],
   "source": []
  }
 ],
 "metadata": {
  "kernelspec": {
   "display_name": "Python 3",
   "language": "python",
   "name": "python3"
  },
  "language_info": {
   "codemirror_mode": {
    "name": "ipython",
    "version": 3
   },
   "file_extension": ".py",
   "mimetype": "text/x-python",
   "name": "python",
   "nbconvert_exporter": "python",
   "pygments_lexer": "ipython3",
   "version": "3.9.12 (tags/v3.9.12:b28265d, Mar 23 2022, 23:52:46) [MSC v.1929 64 bit (AMD64)]"
  },
  "orig_nbformat": 4,
  "vscode": {
   "interpreter": {
    "hash": "c4b9ebf4ca459396e2ad1150752490c26670c1a037c08cad955a4425787bec2e"
   }
  }
 },
 "nbformat": 4,
 "nbformat_minor": 2
}
