{
 "cells": [
  {
   "cell_type": "code",
   "execution_count": 2,
   "metadata": {},
   "outputs": [
    {
     "name": "stdout",
     "output_type": "stream",
     "text": [
      "6\n"
     ]
    }
   ],
   "source": [
    "# 실습 1-2\n",
    "board = input(\"게시글의 총 갯수를 입력하세요:\")\n",
    "board2 = input(\"한 페이지에 필요한 게시글 수를 입력하세요:\")\n",
    "\n",
    "\n",
    "a, b = divmod(int(board),int(board2))\n",
    "\n",
    "if b > 0:\n",
    "    a = a+1\n",
    "    \n",
    "print(a)"
   ]
  },
  {
   "cell_type": "code",
   "execution_count": 8,
   "metadata": {},
   "outputs": [
    {
     "name": "stdout",
     "output_type": "stream",
     "text": [
      "# 김코딩\n",
      "\n",
      "# 이싸피\n"
     ]
    }
   ],
   "source": [
    "# 실습 1-3\n",
    "person1 = input()\n",
    "person2 = input()\n",
    "print(f\"# {person1}\\n\\n# {person2}\")"
   ]
  },
  {
   "cell_type": "code",
   "execution_count": 10,
   "metadata": {},
   "outputs": [
    {
     "name": "stdout",
     "output_type": "stream",
     "text": [
      "27\n"
     ]
    }
   ],
   "source": [
    "# 실습 1-4\n",
    "    # 1000 미만\n",
    "result = 0\n",
    "for i in range(1, 1000):\n",
    "    if i % 2 == 0 or i % 7 == 0:\n",
    "        result += i\n",
    "print(result)\n",
    "\n",
    "    # 10 미만\n",
    "result = 0\n",
    "for i in range(1, 10):\n",
    "    if i % 2 == 0 or i % 7 == 0:\n",
    "        result += i\n",
    "print(result)"
   ]
  },
  {
   "cell_type": "code",
   "execution_count": 16,
   "metadata": {},
   "outputs": [
    {
     "name": "stdout",
     "output_type": "stream",
     "text": [
      "****\n",
      "****\n",
      "****\n",
      "****\n",
      "****\n"
     ]
    }
   ],
   "source": [
    "# 실습 1-5\n",
    "m = 5\n",
    "n = 4\n",
    "\n",
    "for s in range(0,m):\n",
    "    print(\"*\"*n)\n"
   ]
  },
  {
   "cell_type": "code",
   "execution_count": 40,
   "metadata": {},
   "outputs": [
    {
     "name": "stdout",
     "output_type": "stream",
     "text": [
      "['python', 'django', 'web', 'algorithm']\n",
      "dict_keys(['python', 'django', 'web', 'algorithm'])\n",
      "[85, 89, 83, 90]\n",
      "dict_values([85, 89, 83, 90])\n"
     ]
    }
   ],
   "source": [
    "# 1/16(월) 과제1\n",
    "score = {\n",
    "    'python': 80,\n",
    "    'django': 89,\n",
    "    'web': 83\n",
    "}\n",
    "\n",
    "score[\"algorithm\"] = 80\n",
    "score[\"python\"] = 85\n",
    "\n",
    "print(sum(score.values())/len(score))\n",
    "\n",
    "    # 딕셔너리 key:value 각각 추출하는 연습\n",
    "# my_subject = list(score)\n",
    "# my_subjects = score.keys()\n",
    "# my_score = list(score.values())\n",
    "# my_scores = score.values()\n",
    "\n",
    "\n",
    "# print(my_subject)\n",
    "# print(my_subjects)\n",
    "# print(my_score)\n",
    "# print(my_scores)"
   ]
  },
  {
   "cell_type": "code",
   "execution_count": 52,
   "metadata": {},
   "outputs": [
    {
     "name": "stdout",
     "output_type": "stream",
     "text": [
      "6\n"
     ]
    }
   ],
   "source": [
    "# 1/16(월) 과제2\n",
    "s = input('숫자를 입력해주세요 : ')\n",
    "\n",
    "# result = 0   \n",
    "# for i in s:\n",
    "#     result += int(i)\n",
    "\n",
    "# print(result)\n",
    "\n",
    "\n",
    "number = list(s)\n",
    "length = len(s)\n",
    "\n",
    "ans = 0\n",
    "\n",
    "for i in range(0, length):\n",
    "    ans += int(number[i])\n",
    "\n",
    "print(ans)         "
   ]
  },
  {
   "cell_type": "code",
   "execution_count": 51,
   "metadata": {},
   "outputs": [
    {
     "name": "stdout",
     "output_type": "stream",
     "text": [
      "-3.0 3.0\n"
     ]
    }
   ],
   "source": [
    "# 실습 2-1\n",
    "# a = 3\n",
    "# b = 6\n",
    "# c = -5\n",
    "\n",
    "# 제곱근 구하기 : **0.5\n",
    "\n",
    "# print(round(((-b)+((b**2)-(4*a*c))**(0.5))/(2*a),3))\n",
    "# print(round(((-b)-((b**2)-(4*a*c))**(0.5))/(2*a),3))\n",
    "\n",
    "\n",
    "    #교수님 풀이 # 터미널에 numpy 설치 : pip install numpy\n",
    "import numpy as np\n",
    "\n",
    "a = 1\n",
    "b = 0\n",
    "c = -9\n",
    "\n",
    "coeff = [a,b,c]\n",
    "lower_x, upper_x = np.roots(coeff)\n",
    "print(round(lower_x,4), round(upper_x,4))\n",
    "\n"
   ]
  },
  {
   "cell_type": "code",
   "execution_count": 10,
   "metadata": {},
   "outputs": [
    {
     "name": "stdout",
     "output_type": "stream",
     "text": [
      "취업 준비생에게 SW 역량 향상 교육 및 다양한 취업지원 서비스를 제공하여 취업에 성공하도록 돕는 프로그램입니다.\n"
     ]
    }
   ],
   "source": [
    "# 실습 2-2\n",
    "html_text = input()\n",
    "\n",
    "result = html_text[3:-4]\n",
    "print(result)\n"
   ]
  },
  {
   "cell_type": "code",
   "execution_count": 16,
   "metadata": {},
   "outputs": [
    {
     "name": "stdout",
     "output_type": "stream",
     "text": [
      "Pass\n"
     ]
    }
   ],
   "source": [
    "#실습 2-3\n",
    "str_lst = input('문자열을 입력하세요. : ') # saFe eMotion Nail\n",
    "\n",
    "words_lst = list(str_lst.lower().split())\n",
    "if words_lst[0][-1] == words_lst[1][0] and words_lst[1][-1] == words_lst[2][0]:\n",
    "    print(\"Pass\")\n",
    "else:\n",
    "    print(\"Fail\")\n",
    "\n",
    "\t#재만님 풀이\n",
    "# str_lst = input('문자열을 입력하세요. : ')\n",
    "\n",
    "# f_word,s_word,t_word = str_lst.lower().split()\n",
    "\n",
    "# if f_word[-1] == s_word[0] and s_word[-1] == t_word[0]:\n",
    "#     print(\"Pass\")\n",
    "# else : \n",
    "#     print(\"Fail\")"
   ]
  },
  {
   "cell_type": "code",
   "execution_count": 55,
   "metadata": {},
   "outputs": [
    {
     "name": "stdout",
     "output_type": "stream",
     "text": [
      "['핫초코', '아메', '라떼', '딸기']\n"
     ]
    }
   ],
   "source": [
    "#실습 2-4 #서식 명세 사용(왼쪽정렬, 오른쪽정렬)\n",
    "\n",
    "# 출력 결과 예시\n",
    "# 스테이크   50,000 \n",
    "# + VAT     7,500\n",
    "# 총계 ₩    57,500\n",
    "\n",
    "\n",
    "# stk = 50000\n",
    "# stk_v = stk * 0.15\n",
    "# stk_sum = stk + stk_v\n",
    "\n",
    "# stk_f = format(stk,',')\n",
    "# stk_v_f = format(int(stk_v),',')\n",
    "# stk_sum_f = format(int(stk_sum),',')\n",
    "\n",
    "# print(f\"스테이크   {stk_f}\\n+ VAT     {stk_v_f}\\n총계 ₩    {stk_sum_f}\")\n",
    "\n",
    "# :>len 오른쪽정렬, len만큼 칸을 확보\n",
    "# :<len 왼쪽정렬, len만큼 칸을 확보\n",
    "# :^len 가운데정렬, len만큼 칸을 확보  \n",
    "\n",
    "# steak = 50000\n",
    "# print(f\"스테이크{steak:>10}스테이크\")\n",
    "# print(f\"스테이크{steak:^10}스테이크\")\n",
    "# print(f\"스테이크{steak:<10}스테이크\")\n",
    "\n",
    "\n"
   ]
  },
  {
   "cell_type": "code",
   "execution_count": 74,
   "metadata": {},
   "outputs": [
    {
     "name": "stdout",
     "output_type": "stream",
     "text": [
      "[('Python Homework', 3), ('Assay', 4), ('Vacation', 100), ('Soccer Contest', 10)]\n"
     ]
    }
   ],
   "source": [
    "# 실습 2-5\n",
    "# Soccer Contest 10\n",
    "todo = [(\"Python Homework\", 3), (\"Assay\", 4), (\"Vacation\", 100)]\n",
    "\n",
    "todo_list = list(todo)\n",
    "\n",
    "todo_n = input()\n",
    "todo_d = int(input())\n",
    "\n",
    "new = (todo_n,todo_d)\n",
    "todo_list.append(new)\n",
    "\n",
    "print(todo_list)"
   ]
  },
  {
   "cell_type": "code",
   "execution_count": 66,
   "metadata": {},
   "outputs": [
    {
     "name": "stdout",
     "output_type": "stream",
     "text": [
      "4\n",
      "['핫초코', '아메', '라떼', '딸기']\n",
      "2\n",
      "0\n",
      "{'아메리카노': 1, '핫초코': 1, '라떼': 1, '딸기딜라이트': 2}\n"
     ]
    }
   ],
   "source": [
    "# 과제 2-2 교수님\n",
    "# orders = '아이스아메리카노,카라멜마키야또,에스프레소,아메리카노,아메리카노,아이스라떼,핫초코,아이스아메리카노,아메리카노,아이스카라멜마키야또,아이스라떼,라떼마키야또,카푸치노,라떼마키야또'\n",
    "orders = '아메,라떼,핫초코,딸기'\n",
    "\n",
    "print(len(orders.split(\",\")))\n",
    "\n",
    "orders = [\"아메\",\"라떼\",\"핫초코\",\"딸기\"]\n",
    "\n",
    "set_orders = set(orders)\n",
    "list_orders = list(set_orders)\n",
    "\n",
    "print(sorted(list_orders, reverse=True))\n",
    "\n",
    "\n",
    "# 과제 2-4 교수님\n",
    "\n",
    "# count(\"문자열\")\n",
    "# 해당 문자열에서 단어가 몇번 나오는지 횟수를 세준다.\n",
    "orders = \"아이스아메리카노,핫초코,아이스라떼,딸기딜라이트,딸기딜라이트\"\n",
    "\n",
    "print(orders.count(\"아이스\"))\n",
    "orders = [\"아메리카노\",\"핫초코\",\"라떼\",\"딸기딜라이트\",\"딸기딜라이트\"]\n",
    "\n",
    "# find(\"문자열\")\n",
    "# 문자열이 시작되는 index 찾아서 변환\n",
    "\n",
    "cnt = 0\n",
    "for order in orders:\n",
    "    if order == \"딸기\":\n",
    "        cnt += 1\n",
    "print(cnt)\n",
    "\n",
    "orders_dict = {} # 빈 딕셔너리를 생성 dict()\n",
    "# 리스트를 순회하면서 메뉴를 확인\n",
    "for order in orders:\n",
    "    # order 가 내가 만든 딕셔너리의 키에 포함되어 있지 않다면\n",
    "        # (=> 지금까지 한번도 등장한적 없는 메뉴)\n",
    "    # 그 order에 매칭되는 값을 0으로 초기화\n",
    "    # key = 메뉴이름, value = 주문건수\n",
    "    \n",
    "    if order not in orders_dict.keys():\n",
    "        orders_dict[order] = 0\n",
    "    # order 가 내가 만든 딕셔너리의 키에 포함되어 있다 (=> 이전에 등장한 메뉴)\n",
    "    orders_dict[order] += 1\n",
    "\n",
    "print(orders_dict)"
   ]
  },
  {
   "cell_type": "code",
   "execution_count": 2,
   "metadata": {},
   "outputs": [
    {
     "name": "stdout",
     "output_type": "stream",
     "text": [
      "2000년은 윤년입니다.\n"
     ]
    }
   ],
   "source": [
    "# 과제 3-2\n",
    "year = int(input(\"연도를 엽력하세요 : \"))\n",
    "\n",
    "if (year % 4 == 0) and (year % 100 != 0) or year % 400 == 0:\n",
    "    print(f\"{year}년은 윤년입니다.\")\n",
    "else:\n",
    "    print(f\"{year}년은 윤년이 아닙니다.\")"
   ]
  },
  {
   "cell_type": "code",
   "execution_count": 9,
   "metadata": {},
   "outputs": [
    {
     "ename": "IndentationError",
     "evalue": "expected an indented block (4180225166.py, line 21)",
     "output_type": "error",
     "traceback": [
      "\u001b[1;36m  Cell \u001b[1;32mIn[9], line 21\u001b[1;36m\u001b[0m\n\u001b[1;33m    if idx == len(words) -1:\u001b[0m\n\u001b[1;37m                            ^\u001b[0m\n\u001b[1;31mIndentationError\u001b[0m\u001b[1;31m:\u001b[0m expected an indented block\n"
     ]
    }
   ],
   "source": [
    "# 과제 4-2\n",
    "words = [\"round\" , \"dream\", \"magnet\" , \"tweet\" , \"tweet\", \"trick\", \"kiwi\"]\n",
    "\n",
    "for idx in range(len(words)):\n",
    "\n",
    "    # 탈락인 경우\n",
    "    if (words[idx][-1] != words[idx+1][0]) or (words[idx] in words[:idx]):\n",
    "        print(f\"{idx+1}번째 참가자 탈락입니다.\")\n",
    "        break\n",
    "else:\n",
    "    print(\"아무도 탈락하지 않았습니다.\")\n",
    "\n",
    "    #while 문\n",
    "# idx = 0\n",
    "\n",
    "# while idx < len(words) - 1:\n",
    "#     idx += 1\n",
    "#     if(words[idx-1][-1] != words[idx][0]) or (words[idx] in words[:idx]):\n",
    "#         print(f\"{idx+1}번째 참가자 탈락입니다.\")\n",
    "#         break\n",
    "#     if idx == len(words) -1:"
   ]
  },
  {
   "cell_type": "code",
   "execution_count": 46,
   "metadata": {},
   "outputs": [
    {
     "name": "stdout",
     "output_type": "stream",
     "text": [
      "['apple', 'rottenBanana', 'apple', 'RoTTenorange', 'Orange']\n",
      "['apple', ' banana', 'apple', ' orange', 'orange']\n"
     ]
    }
   ],
   "source": [
    "# 3-1\n",
    "\n",
    "#apple,rottenBanana,apple,RoTTenorange,Orange\n",
    "\n",
    "fruit_bag = input(\"과일 봉지를 입력 : \").split(\",\")\n",
    "\n",
    "print(fruit_bag)\n",
    "\n",
    "fresh_bag = []\n",
    "\n",
    "for fruit in fruit_bag:\n",
    "    fruit = fruit.lower()\n",
    "    fruit = fruit.replace(\"rotten\",\" \") # rotten 삭제하기\n",
    "    fresh_bag.append(fruit)\n",
    "print(fresh_bag)\n"
   ]
  },
  {
   "cell_type": "code",
   "execution_count": 51,
   "metadata": {},
   "outputs": [
    {
     "name": "stdout",
     "output_type": "stream",
     "text": [
      "bc\n"
     ]
    }
   ],
   "source": [
    "# 3-2 내 풀이\n",
    "# text = input('문자를 입력하세요: ')\n",
    "# # 2 : 0, 1\n",
    "# # 4 : 1, 2 \n",
    "# # 6 : 2, 3\n",
    "\n",
    "# # 3 : 1\n",
    "# # 5 : 2\n",
    "# i = int(len(text)/2)\n",
    "\n",
    "# if len(text) % 2 == 0:\n",
    "#     print(text[i-1], text[i])\n",
    "# else:\n",
    "#     print(text[i-1])\n",
    "\n",
    "# 3-2 교수님 풀이\n",
    "word = input('문자열을 입력')\n",
    "\n",
    "mid = len(word) // 2 \n",
    "\n",
    "if len(word) % 2:\n",
    "    middle = word[mid]\n",
    "else:\n",
    "    middle = word[mid-1:mid+1]\n",
    "\n",
    "print(middle)"
   ]
  },
  {
   "cell_type": "code",
   "execution_count": 1,
   "metadata": {},
   "outputs": [
    {
     "name": "stdout",
     "output_type": "stream",
     "text": [
      "16\n"
     ]
    }
   ],
   "source": [
    "# 3-3\n",
    "infos = [{'name': 'kim', 'age': 12}, {'name': 'lee', 'age': 4}]\n",
    "\n",
    "age_sum = 0\n",
    "for info in infos:\n",
    "    age_sum += info[\"age\"]\n",
    "    \n",
    "# age_sum = sum([info[\"age\"] for info in infos])\n",
    "\n",
    "print(age_sum)"
   ]
  },
  {
   "cell_type": "code",
   "execution_count": 5,
   "metadata": {},
   "outputs": [
    {
     "name": "stdout",
     "output_type": "stream",
     "text": [
      "{'A': 4, 'O': 4, 'B': 3, 'AB': 2}\n"
     ]
    }
   ],
   "source": [
    "# 3-4 (과제 2-4랑 비슷)\n",
    "blood_types = [ 'A','A','O', 'B', 'A', 'O', 'AB','O', 'A', 'B', 'O', 'B', 'AB']\n",
    "\n",
    "# key는 혈액형, value는 인원수\n",
    "blood_dict = {}\n",
    "\n",
    "for blood in blood_types:\n",
    "    if blood_dict.get(blood):\n",
    "        # 안에 blood 혈액형이 있는 경우\n",
    "        blood_dict[blood] += 1\n",
    "    else:\n",
    "        # 안에 blood 혈액형이 없는 경우 => 새로운 혈액형 추가\n",
    "        blood_dict[blood] = 1\n",
    "\n",
    "print(blood_dict)\n",
    "\n",
    "# orders_dict = {} # 빈 딕셔너리를 생성 dict()\n",
    "# # 리스트를 순회하면서 메뉴를 확인\n",
    "#     if order not in orders_dict.keys():\n",
    "#         orders_dict[order] = 0\n",
    "#     orders_dict[order] += 1\n",
    "# print(orders_dict)"
   ]
  },
  {
   "cell_type": "code",
   "execution_count": 9,
   "metadata": {},
   "outputs": [
    {
     "name": "stdout",
     "output_type": "stream",
     "text": [
      "[('박해피', 5), ('이영희', 4), ('김철수', 3), ('조민지', 3), ('강디티', 2), ('김해킹', 2), ('한케이', 2)]\n"
     ]
    }
   ],
   "source": [
    "# 4-2 재만님 풀이\n",
    "students = [\n",
    "    '박해피',\n",
    "    '이영희',\n",
    "    '조민지',\n",
    "    '조민지',\n",
    "    '김철수',\n",
    "    '이영희',\n",
    "    '이영희',\n",
    "    '김해킹',\n",
    "    '박해피',\n",
    "    '김철수',\n",
    "    '한케이',\n",
    "    '강디티',\n",
    "    '조민지',\n",
    "    '박해피',\n",
    "    '김철수',\n",
    "    '이영희',\n",
    "    '박해피',\n",
    "    '김해킹',\n",
    "    '박해피',\n",
    "    '한케이',\n",
    "    '강디티',\n",
    "]\n",
    "\n",
    "set_students = set(students)\n",
    "list_students = sorted(list(set_students))\n",
    "\n",
    "vote_cnt = 0\n",
    "\n",
    "result = {}\n",
    "for student_cnt in range(0, len(set_students)):\n",
    "    for cnt in range(0, len(students)):\n",
    "\n",
    "        if list_students[student_cnt] in students[cnt]:\n",
    "            vote_cnt += 1\n",
    "        \n",
    "        if cnt == 20:\n",
    "            result[list_students[student_cnt]] = vote_cnt\n",
    "            vote_cnt = 0\n",
    "\n",
    "result_real = sorted(result.items(), key=lambda x: x[1], reverse=True)\n",
    "print(result_real)"
   ]
  },
  {
   "cell_type": "code",
   "execution_count": 5,
   "metadata": {},
   "outputs": [
    {
     "name": "stdout",
     "output_type": "stream",
     "text": [
      "dict_values([['eat', 'tea', 'ate'], ['tan', 'nat'], ['bat']])\n"
     ]
    }
   ],
   "source": [
    "# 과제 6-4 교수님 풀이\n",
    "\n",
    "# words = ['eat','tea','tan','ate','nat','bat']\n",
    "\n",
    "# 애너그램 그룹 딕셔너리로 묶기\n",
    "anagrams = {}\n",
    "\n",
    "# 애너그램 => 순서를 섞어서 다른 문자열 만들기\n",
    "# 사전 순으로 정렬해버리면?? 다 똑같아진다.\n",
    "# 정렬한 다음에 비교해서 같으면, 같은 애너그램 그룹에 속한다.\n",
    "\n",
    "for word in words:\n",
    "    # 단어를 사전순으로 정렬하기\n",
    "    temp = sorted(word)\n",
    "    # 정렬 결과가 리스트가 되어버리니까 다시 문자열로 만들기\n",
    "    temp = \"\".join(temp)\n",
    "    # print(temp)\n",
    "    \n",
    "    if anagrams.get(temp):\n",
    "        # 정렬 결과가 이미 딕셔너리에 존재하는지 검사\n",
    "            anagrams[temp].append(word)\n",
    "    else:\n",
    "        # 존재하지 않으면 새로운 리스트를 만들어서 추가\n",
    "        anagrams[temp] = [word]\n",
    "\n",
    "print(anagrams.values())\n",
    "\n",
    "# ==> 함수로 만들어보기 ~~~~\n"
   ]
  },
  {
   "cell_type": "code",
   "execution_count": 11,
   "metadata": {},
   "outputs": [
    {
     "name": "stdout",
     "output_type": "stream",
     "text": [
      "16\n",
      "16\n",
      "[('이정현', 1), ('홍경환', 2), ('김재만', 3)]\n",
      "[('이정현', 1), ('홍경환', 2), ('김재만', 3)]\n"
     ]
    }
   ],
   "source": [
    "# 람다 함수 = 익명 함수\n",
    "# 한 번 사용하고 버릴 때\n",
    "\n",
    "v = (lambda x : x * x)(4)\n",
    "print(v)\n",
    "\n",
    "\n",
    "# 나중에 또 사용하려면 변수에 람다함수 저장\n",
    "my_lambda = lambda x : x * x\n",
    "print(my_lambda(4))\n",
    "\n",
    "# sorted(key, reverse)\n",
    "# key => 정렬 기준(함수로 정해줌)\n",
    "\n",
    "# 딕셔너리를 정렬\n",
    "# 딕셔너리는 비시퀀스형이라 순서가 의미가 없다. (순서가 없으므로 정렬x)\n",
    "# 시퀀스가 있는 형태로 바꿔서 정렬을 한다.\n",
    "# item()\n",
    "\n",
    "등수 = {\"홍경환\" : 2, \"이정현\" : 1, \"김재만\" : 3}\n",
    "# value 기준으로 정렬하기\n",
    "# print(등수.items()) # 튜플로 묶임\n",
    "print(sorted(등수.items(), key = lambda x : x[1]))\n",
    "\n",
    "\n",
    "def key_f(x):\n",
    "    return x[1]\n",
    "\n",
    "print(sorted(등수.items(), key=key_f))\n",
    "\n"
   ]
  },
  {
   "cell_type": "code",
   "execution_count": 5,
   "metadata": {},
   "outputs": [
    {
     "name": "stdout",
     "output_type": "stream",
     "text": [
      "101\n"
     ]
    }
   ],
   "source": [
    "# 과제 5-2\n",
    "# fn_d(91) \n",
    "# 출력 예시 \n",
    "# 101\n",
    "\n",
    "def fn_d(n):\n",
    "    return (n // 10) + (n % 10) + n\n",
    "\n",
    "print(fn_d(n))\n",
    "\n",
    "# 승현님 풀이\n",
    "def fn_d(n):\n",
    "    if n < 1:\n",
    "        return \"잘못 입력\"\n",
    "    else:\n",
    "        N = [int(i) for i in str(n)]\n",
    "\n",
    "    return sum(N) + n\n",
    "\n",
    "print(fn_d(91))\n",
    "\n",
    "\n",
    "# 재만님 풀이\n",
    "def fn_d(n):\n",
    "    result = 0\n",
    "    for i in str(n):\n",
    "        result += int(i)\n",
    "\n",
    "    return result + n\n",
    "\n",
    "fn_d(91)\n",
    "\n",
    "\n",
    "def is_selfnumber(n):\n",
    "    for i in range(1,n):\n",
    "        if fn_d(i) == n :\n",
    "            return False\n",
    "\n",
    "    return True\n",
    "    \n",
    "print(fn_d(91),is_selfnumber(30))"
   ]
  },
  {
   "cell_type": "code",
   "execution_count": 4,
   "metadata": {},
   "outputs": [
    {
     "name": "stdout",
     "output_type": "stream",
     "text": [
      "101 False\n"
     ]
    }
   ],
   "source": [
    "def fn_d(n):\n",
    "    return (n // 10) + (n % 10) + n\n",
    "\n",
    "\n",
    "\n",
    "\n",
    "def is_selfnumber(n):\n",
    "    for i in range(1,n):\n",
    "        if fn_d(i) == n :\n",
    "            return False\n",
    "\n",
    "    return True\n",
    "    \n",
    "print(fn_d(91),is_selfnumber(30))"
   ]
  },
  {
   "cell_type": "code",
   "execution_count": 3,
   "metadata": {},
   "outputs": [
    {
     "name": "stdout",
     "output_type": "stream",
     "text": [
      "10\n"
     ]
    }
   ],
   "source": [
    "n = 91\n",
    "result = 0\n",
    "for i in str(n):\n",
    "    result += int(i)\n",
    "    \n",
    "print(result)"
   ]
  },
  {
   "cell_type": "code",
   "execution_count": 3,
   "metadata": {},
   "outputs": [
    {
     "name": "stdout",
     "output_type": "stream",
     "text": [
      "4.0% 700.0g\n"
     ]
    }
   ],
   "source": [
    "# 실습 3-5 소금물 문제\n",
    "# 입력 예시\n",
    "# # mass percent.py 실행 시\n",
    "# 1.소금물의 농도(%)와 소금물의 양(g)을 입력하십시오: 1% 400g\n",
    "# 2.소금물의 농도(%)와 소금물의 양(g)을 입력하십시오: 8% 300g\n",
    "# Done\n",
    "\n",
    "# 출력 예시\n",
    "# 4.0% 700.0g\n",
    "\n",
    "# 승현님 풀이\n",
    "import re\n",
    "\n",
    "Total = []\n",
    "Result = []\n",
    "\n",
    "for i in range(0,5):\n",
    "    insert_salt = input(f\"{i+1}. 소금물의 농도(%)와 소금물의 양(g)을 입력하십시오 : \")\n",
    "\n",
    "    if i == 0 and 'Done' in insert_salt:\n",
    "        print(\"잘못 입력하셨습니다\")\n",
    "        break\n",
    "    elif (i != 0 and 'Done' in insert_salt):\n",
    "        break\n",
    "    else:\n",
    "        insert_salt_list = list(insert_salt.split())\n",
    "        \n",
    "        nongdo = re.findall(r'\\d+', insert_salt_list[0])\n",
    "        amount = re.findall(r'\\d+', insert_salt_list[1])\n",
    "        \n",
    "        salt = ((int(nongdo[0]) / 100) * int(amount[0]))\n",
    "\n",
    "        if i == 0:\n",
    "            Total.append(salt)\n",
    "            Total.append(float(amount[0]))\n",
    "        else:\n",
    "            Total[0] += salt\n",
    "            Total[1] += float(amount[0])\n",
    "\n",
    "Result.append(100 * (Total[0] / Total[1]))\n",
    "Result.append(Total[1])\n",
    "print(f\"{round(Result[0],3)}% {round(Result[1],3)}g\")\n"
   ]
  },
  {
   "cell_type": "code",
   "execution_count": 39,
   "metadata": {},
   "outputs": [
    {
     "name": "stdout",
     "output_type": "stream",
     "text": [
      "970103*******\n",
      "861123*******\n"
     ]
    }
   ],
   "source": [
    "# 1/25(수) 과제 : 실습 6-1\n",
    "\n",
    "# 출력예시\n",
    "# 970103*******\n",
    "# 861123******* \n",
    "\n",
    "def de_identify(ident):\n",
    "\n",
    "    if len(ident) == 14:\n",
    "        a = ident.split('-')\n",
    "\n",
    "        return a[0] + ( len(a[1]) * '*')\n",
    "\n",
    "    else:\n",
    "        a = ident\n",
    "        return a[:6] + '*' * 7\n",
    "\n",
    "# a = True\n",
    "\n",
    "# if ident.isdecimal():\n",
    "#     a = True\n",
    "\n",
    "print(de_identify('970103-1234567'))\n",
    "print(de_identify('8611232345678'))"
   ]
  },
  {
   "cell_type": "code",
   "execution_count": 67,
   "metadata": {},
   "outputs": [
    {
     "name": "stdout",
     "output_type": "stream",
     "text": [
      "옥수수\n"
     ]
    }
   ],
   "source": [
    "# 1/25(수) 과제 : 실습 6-2\n",
    "# 가장 비싼 값의 이름\n",
    "grain_lst = [('고구마',3000), ('감자',2000), ('옥수수',4500),('토란',1300)]\n",
    "\n",
    "max_c = 0\n",
    "\n",
    "for i in grain_lst:\n",
    "    x, y = i\n",
    "\n",
    "    if y >= max_c:\n",
    "        max_c = y\n",
    "        max_g = x\n",
    "\n",
    "print(max_g)\n",
    "\n",
    "# for i in range(len(grain_lst)):\n",
    "#     x, y = grain_lst[i]"
   ]
  },
  {
   "cell_type": "code",
   "execution_count": 2,
   "metadata": {},
   "outputs": [
    {
     "name": "stdout",
     "output_type": "stream",
     "text": [
      "2\n",
      "3\n"
     ]
    }
   ],
   "source": [
    "# 1/26(목) 과제 : 실습 6-3\n",
    "# count_vowels('apple') #=> 2\n",
    "# count_vowels('banana') #=> 3\n",
    "\n",
    "vowel = ['a','e','i','o','u']\n",
    "\n",
    "def count_vowels(words):\n",
    "    \n",
    "    cnt = 0\n",
    "\n",
    "    for word in words:\n",
    "        if word in vowel:\n",
    "            cnt += 1\n",
    "\n",
    "    return cnt\n",
    "\n",
    "print(count_vowels('apple')) #=> 2\n",
    "print(count_vowels('banana')) #=> 3"
   ]
  },
  {
   "cell_type": "code",
   "execution_count": 8,
   "metadata": {},
   "outputs": [
    {
     "name": "stdout",
     "output_type": "stream",
     "text": [
      "입장 기록이 많은 Top3\n",
      "안도둑 10회\n",
      "임온실 9회\n",
      "이싸피 8회\n",
      "\n",
      "출입 기록이 수상한 사람\n",
      "최이썬은 입장 기록이 1회 더 많아 수상합니다.\n",
      "염자바은 퇴장 기록이 2회 더 많아 수상합니다.\n"
     ]
    }
   ],
   "source": [
    "# 1/26(목) 과제 : 실습 6-4\n",
    "\n",
    "\n",
    "\n",
    "entry_record = ['이싸피', '박장고', '조실습', '이싸피', '조실습', '오디비', '임온실', '조실습', '조실습', '이싸피', '안도둑', '임온실', '최이썬', '오디비', '안도둑', '염자바', '박장고', '조실습',\n",
    "                '최이썬', '조실습', '염자바', '박장고', '임온실', '임온실', '이싸피', '임온실', '오디비', '조실습', '염자바', '임온실', '박장고', '최이썬', '안도둑', '염자바', '임온실', '박장고', '이싸피', '안도둑',\n",
    "                '임온실', '오디비', '최이썬', '안도둑', '이싸피', '오디비', '안도둑', '이싸피', '박장고', '박장고', '안도둑', '안도둑', '안도둑', '염자바', '최이썬', '오디비', '오디비', '최이썬', '이싸피', '임온실', '안도둑']\n",
    "\n",
    "exit_record = ['최이썬', '조실습', '이싸피', '안도둑', '임온실', '안도둑', '이싸피', '오디비', '염자바', '박장고', '최이썬', '이싸피', '염자바', '염자바', '박장고', '임온실', '이싸피',\n",
    "               '박장고', '안도둑', '염자바', '이싸피', '조실습', '조실습', '임온실', '박장고', '이싸피', '조실습', '박장고', '오디비', '안도둑', '조실습', '임온실', '안도둑', '안도둑', '임온실', '조실습', '최이썬', '안도둑', '임온실',\n",
    "               '염자바', '이싸피', '임온실', '안도둑', '오디비', '안도둑', '오디비', '임온실', '염자바', '임온실', '박장고', '조실습', '이싸피', '최이썬', '최이썬', '오디비', '오디비', '염자바', '오디비', '안도둑', '박장고']\n",
    "\n",
    "\n",
    "# 가장 많이 입장한 세 사람\n",
    "# 입장 횟수와 퇴장 횟수 차이가 0 이어야 정상\n",
    "# 차이가 같지 않은 사람 출력\n",
    "# collection 모듈의 counter 객체 활용\n",
    "\n",
    "from collections import Counter\n",
    "\n",
    "entry_c = Counter(entry_record)\n",
    "exit_c = Counter(exit_record)\n",
    "enex_lst = list(entry_c | exit_c)\n",
    "\n",
    "\n",
    "entry_top = entry_c.most_common(3)\n",
    "\n",
    "print(\"입장 기록이 많은 Top3\")\n",
    "\n",
    "for top in entry_top:\n",
    "    print(f\"{top[0]} {top[1]}회\")\n",
    "\n",
    "\n",
    "print(\"\\n출입 기록이 수상한 사람\")\n",
    "\n",
    "for name in enex_lst:\n",
    "\n",
    "    in_out = entry_c.get(name,0) - exit_c.get(name,0)\n",
    "\n",
    "    if in_out > 0:\n",
    "        print(f\"{name}은 입장 기록이 {in_out}회 더 많아 수상합니다.\")\n",
    "    elif in_out < 0:\n",
    "        print(f\"{name}은 퇴장 기록이 {abs(in_out)}회 더 많아 수상합니다.\")"
   ]
  },
  {
   "cell_type": "code",
   "execution_count": 6,
   "metadata": {},
   "outputs": [
    {
     "name": "stdout",
     "output_type": "stream",
     "text": [
      "입장 기록이 많은 Top3\n",
      "안도둑 10회\n",
      "임온실 9회\n",
      "이싸피 8회\n",
      "\n",
      "출입 기록이 수상한 사람\n",
      "최이썬은 입장 기록이 1회 더 많아 수상합니다.\n",
      "염자바은 퇴장 기록이 2회 더 많아 수상합니다.\n"
     ]
    }
   ],
   "source": [
    "# 재만님 풀이\n",
    "from collections import Counter\n",
    "\n",
    "\n",
    "entry_record = ['이싸피', '박장고', '조실습', '이싸피', '조실습', '오디비', '임온실', '조실습', '조실습', '이싸피', '안도둑', '임온실', '최이썬', '오디비', '안도둑', '염자바', '박장고', '조실습',\n",
    "                '최이썬', '조실습', '염자바', '박장고', '임온실', '임온실', '이싸피', '임온실', '오디비', '조실습', '염자바', '임온실', '박장고', '최이썬', '안도둑', '염자바', '임온실', '박장고', '이싸피', '안도둑',\n",
    "                '임온실', '오디비', '최이썬', '안도둑', '이싸피', '오디비', '안도둑', '이싸피', '박장고', '박장고', '안도둑', '안도둑', '안도둑', '염자바', '최이썬', '오디비', '오디비', '최이썬', '이싸피', '임온실', '안도둑']\n",
    "\n",
    "exit_record = ['최이썬', '조실습', '이싸피', '안도둑', '임온실', '안도둑', '이싸피', '오디비', '염자바', '박장고', '최이썬', '이싸피', '염자바', '염자바', '박장고', '임온실', '이싸피',\n",
    "               '박장고', '안도둑', '염자바', '이싸피', '조실습', '조실습', '임온실', '박장고', '이싸피', '조실습', '박장고', '오디비', '안도둑', '조실습', '임온실', '안도둑', '안도둑', '임온실', '조실습', '최이썬', '안도둑', '임온실',\n",
    "               '염자바', '이싸피', '임온실', '안도둑', '오디비', '안도둑', '오디비', '임온실', '염자바', '임온실', '박장고', '조실습', '이싸피', '최이썬', '최이썬', '오디비', '오디비', '염자바', '오디비', '안도둑', '박장고']\n",
    "\n",
    "## counter 함수로 갯수 카운팅후 딕셔너리로 저장\n",
    "\n",
    "en_count = Counter(entry_record)\n",
    "ex_count = Counter(exit_record)\n",
    "set_entry = set(entry_record)\n",
    "set_exit = set(exit_record)\n",
    "enex_lst = list(set_entry | set_exit)\n",
    "\n",
    "## 합집합으로 이름의 누락이나 중복을 제거해주었고,\n",
    "\n",
    "entop3 = en_count.most_common(3)\n",
    "\n",
    "print(\"입장 기록이 많은 Top3\")\n",
    "\n",
    "for top in entop3:\n",
    "    print(f\"{top[0]} {top[1]}회\")\n",
    "\n",
    "\n",
    "## 입장 기록 탑 3를 뽑아 for문 반복 하였음.\n",
    "\n",
    "print(\"\\n출입 기록이 수상한 사람\")\n",
    "\n",
    "for name in enex_lst:  ## 집합으로 구분 후 list로 옮겨 for문 돌렸고\n",
    "\n",
    "    in_out = en_count.get(name,0) - ex_count.get(name,0)  ## 차이를 구하고 밑에서 출력에서 음수일 경우 즉 퇴장기록이 더 많을경우엔 abs로 절댓값처리 해주었음. 출입차가 0인경우는 출력x\n",
    "\n",
    "    if in_out > 0:\n",
    "        print(f\"{name}은 입장 기록이 {in_out}회 더 많아 수상합니다.\")\n",
    "    elif in_out < 0:\n",
    "        print(f\"{name}은 퇴장 기록이 {abs(in_out)}회 더 많아 수상합니다.\")"
   ]
  },
  {
   "cell_type": "code",
   "execution_count": 10,
   "metadata": {},
   "outputs": [
    {
     "name": "stdout",
     "output_type": "stream",
     "text": [
      "안도둑 : 10회 입장\n",
      "임온실 : 9회 입장\n",
      "이싸피 : 8회 입장\n",
      "최이썬은 기록이 1회 더 많아 수상합니다.\n",
      "염자바은 기록이 -2회 더 많아 수상합니다.\n"
     ]
    }
   ],
   "source": [
    "# 실습 6-4 교수님 풀이\n",
    "entry_record = ['이싸피', '박장고', '조실습', '이싸피', '조실습', '오디비', '임온실', '조실습', '조실습', '이싸피', '안도둑', '임온실', '최이썬', '오디비', '안도둑', '염자바', '박장고', '조실습',\n",
    "                '최이썬', '조실습', '염자바', '박장고', '임온실', '임온실', '이싸피', '임온실', '오디비', '조실습', '염자바', '임온실', '박장고', '최이썬', '안도둑', '염자바', '임온실', '박장고', '이싸피', '안도둑',\n",
    "                '임온실', '오디비', '최이썬', '안도둑', '이싸피', '오디비', '안도둑', '이싸피', '박장고', '박장고', '안도둑', '안도둑', '안도둑', '염자바', '최이썬', '오디비', '오디비', '최이썬', '이싸피', '임온실', '안도둑']\n",
    "\n",
    "exit_record = ['최이썬', '조실습', '이싸피', '안도둑', '임온실', '안도둑', '이싸피', '오디비', '염자바', '박장고', '최이썬', '이싸피', '염자바', '염자바', '박장고', '임온실', '이싸피',\n",
    "               '박장고', '안도둑', '염자바', '이싸피', '조실습', '조실습', '임온실', '박장고', '이싸피', '조실습', '박장고', '오디비', '안도둑', '조실습', '임온실', '안도둑', '안도둑', '임온실', '조실습', '최이썬', '안도둑', '임온실',\n",
    "               '염자바', '이싸피', '임온실', '안도둑', '오디비', '안도둑', '오디비', '임온실', '염자바', '임온실', '박장고', '조실습', '이싸피', '최이썬', '최이썬', '오디비', '오디비', '염자바', '오디비', '안도둑', '박장고']\n",
    "\n",
    "# 갯수세기\n",
    "# dict = {'이싸피' : 10, ...}\n",
    "\n",
    "entry_dict = {}\n",
    "exit_dict = {}\n",
    "\n",
    "for name in entry_record:\n",
    "    # 딕셔너리에 이름에 해당하는 키가 있다.\n",
    "    if entry_dict.get(name):\n",
    "        entry_dict[name] += 1\n",
    "    # 딕셔너리에 이름에 해당하는 키가 없다.\n",
    "    # 처음 입장했으니까 입장횟수를 1로 만들어 준다.    \n",
    "    else:\n",
    "        entry_dict[name] = 1\n",
    "\n",
    "for name in exit_record:\n",
    "    # 딕셔너리에 이름에 해당하는 키가 있다.\n",
    "    if exit_dict.get(name):\n",
    "        exit_dict[name] += 1\n",
    "    # 딕셔너리에 이름에 해당하는 키가 없다.\n",
    "    # 처음 퇴장했으니까 입장횟수를 1로 만들어 준다.    \n",
    "    else:\n",
    "        exit_dict[name] = 1\n",
    "\n",
    "# 입장 횟수 제일 많은 사람 Top3\n",
    "# 내림차순 정렬을 해준 다음에 처음에서 3명 뽑으면 된다.\n",
    "\n",
    "# print(entry_dict.items())   # items() : 튜플로 묶어줌\n",
    "sorted_entry = sorted(entry_dict.items(), key = lambda item: item[1], reverse = True)\n",
    "\n",
    "for name, count in sorted_entry[:3]:\n",
    "    print(f\"{name} : {count}회 입장\")\n",
    "\n",
    "\n",
    "# 출입기록이 수상한 사람들 목록\n",
    "# |입장횟수 - 퇴장횟수| != 0\n",
    "\n",
    "for name, count in entry_dict.items():\n",
    "    # 입장횟수와 퇴장횟수 차이 구하기\n",
    "    diff = count - exit_dict[name]\n",
    "    if diff != 0:\n",
    "        print(f\"{name}은 기록이 {diff}회 더 많아 수상합니다.\")\n",
    "\n",
    "\n",
    "\n"
   ]
  },
  {
   "cell_type": "code",
   "execution_count": 7,
   "metadata": {},
   "outputs": [
    {
     "name": "stdout",
     "output_type": "stream",
     "text": [
      "리스트가 비었습니다.\n",
      "None\n"
     ]
    }
   ],
   "source": [
    "# Falsy\n",
    "# False 로 취급되는 값들\n",
    "# 0, \"\", []...\n",
    "\n",
    "result = []\n",
    "\n",
    "# result = [1,1,1]\n",
    "\n",
    "if result:\n",
    "    print(result[0])\n",
    "else:\n",
    "    print(\"리스트가 비었습니다.\")\n",
    "    print(None)"
   ]
  },
  {
   "cell_type": "code",
   "execution_count": 5,
   "metadata": {},
   "outputs": [
    {
     "name": "stdout",
     "output_type": "stream",
     "text": [
      "나의 국적은 대한민국\n"
     ]
    }
   ],
   "source": [
    "# 7-1\n",
    "korea_nationality = Nationality(\"대한민국\")\n",
    "print(korea_nationality) # 나의 국적은 대한민국\n",
    "\n",
    "class Nationality:\n",
    "\n",
    "    def __init__(self, nation):\n",
    "        self.nation = nation\n",
    "\n",
    "\n",
    "    def __str__(self):\n",
    "        return f\"나의 국적은 {self.nation}\""
   ]
  },
  {
   "cell_type": "code",
   "execution_count": null,
   "metadata": {},
   "outputs": [],
   "source": [
    "# 7-3\n",
    "\n",
    "# 1 + 2\n",
    "# 2 – 1\n",
    "# 3 * 4\n",
    "# 4 / 0\n",
    "\n",
    "class Calculator:\n",
    "\n",
    "    def __init__(self, add, substract, multuply, divide):\n",
    "        self.add = 0\n",
    "        self.substract = 0\n",
    "        self.multuply = 0\n",
    "        self.divide = 0"
   ]
  },
  {
   "cell_type": "code",
   "execution_count": 11,
   "metadata": {},
   "outputs": [
    {
     "name": "stdout",
     "output_type": "stream",
     "text": [
      "골든 리트리버\n",
      "삼식이가 멍멍하고 짖는다.\n"
     ]
    }
   ],
   "source": [
    "# 클래스와 객체 예제 : http://www.tcpschool.com/python2018/python_class_object\n",
    "class Dog:\n",
    "    name = \"삼식이\"\n",
    "    age = 3\n",
    "    breed = \"골든 리트리버\"\n",
    "    \n",
    "    def bark(self):\n",
    "        print(self.name + \"가 멍멍하고 짖는다.\")\n",
    "\n",
    "my_dog = Dog()\n",
    "\n",
    "print(my_dog.breed)\n",
    "my_dog.bark()"
   ]
  },
  {
   "cell_type": "code",
   "execution_count": 1,
   "metadata": {},
   "outputs": [
    {
     "name": "stdout",
     "output_type": "stream",
     "text": [
      "(3, 3)\n",
      "(3, 2)\n",
      "멍멍! 멍멍!\n"
     ]
    }
   ],
   "source": [
    "# 1/30(월) 과제 7-2\n",
    "\n",
    "# 초기화 메서드는 인자로 개의 이름과 견종을 받아서 인스턴스 변수에 할당\n",
    "# bark() 메서드를 호출하면 개는 짖을 수 있다.\n",
    "# 클래스 변수는 태어난 개의 숫자와 현재 있는 개의 숫자를 기록하는 변수로 구성한다.\n",
    "# 개가 태어나면 (=개체가 생성되면=생성자) /  개가 죽으면 (=소멸자, del)\n",
    "\n",
    "class Doggy:\n",
    "\n",
    "    # 클래스 변수\n",
    "    num_of_dogs = 0\n",
    "    birth_of_dogs = 0\n",
    "    \n",
    "    # 인스턴스 변수 설정\n",
    "    def __init__(self, name, sort):\n",
    "        self.name = name\n",
    "        self.sort = sort\n",
    "        Doggy.num_of_dogs += 1\n",
    "        Doggy.birth_of_dogs += 1\n",
    "    \n",
    "    def bark(self):\n",
    "        return \"멍멍! 멍멍!\"\n",
    "\n",
    "    def get_status(self):\n",
    "        return Doggy.birth_of_dogs, Doggy.num_of_dogs\n",
    "\n",
    "    def __del__(self):\n",
    "        Doggy.num_of_dogs -= 1\n",
    "\n",
    "cotte = Doggy(\"cotte\", \"말티즈\")\n",
    "bom = Doggy(\"bom\", \"시츄\")\n",
    "dog = Doggy(\"dog\", \"강아지\")\n",
    "\n",
    "print(cotte.get_status())\n",
    "del dog\n",
    "print(bom.get_status())\n",
    "print(cotte.bark())"
   ]
  },
  {
   "cell_type": "code",
   "execution_count": 18,
   "metadata": {},
   "outputs": [
    {
     "name": "stdout",
     "output_type": "stream",
     "text": [
      "8\n",
      "4\n",
      "111\n",
      "-1\n"
     ]
    }
   ],
   "source": [
    "# 1/30(월) 과제 7-4\n",
    "\n",
    "# 다음을 반복하면 주어진 수가 1이 될때까지 모든 수를 1로 만들 수 있다.\n",
    "# 짝수는 2로 나누고, 홀수는 3을 곱하고 1을 더한다.\n",
    "# 500번 이상이면 -1 반환\n",
    "# 6-3-10-5-16-8-4-2-1 총 8번 만에 1\n",
    "\n",
    "def collatz(num):\n",
    "    answer = 0\n",
    "    while num > 1:\n",
    "        if num % 2 == 0:\n",
    "            num = num / 2\n",
    "        elif num % 2 ==1:\n",
    "            num = (num * 3) + 1\n",
    "        answer += 1\n",
    "    if answer >= 500:\n",
    "        answer = -1\n",
    "    return answer\n",
    "\n",
    "print(collatz(6)) #=> 8\n",
    "print(collatz(16)) #=> 4\n",
    "print(collatz(27)) #=> 111\n",
    "print(collatz(626331)) #=> -1"
   ]
  },
  {
   "cell_type": "code",
   "execution_count": 3,
   "metadata": {},
   "outputs": [
    {
     "name": "stdout",
     "output_type": "stream",
     "text": [
      "4\n"
     ]
    }
   ],
   "source": [
    "# 과제 7-4 승현풀이\n",
    "class Coll:\n",
    "    count = 0\n",
    "\n",
    "    def __init__(self, num):\n",
    "        self.num = num\n",
    "\n",
    "    def Cal(self):\n",
    "        if self.num % 2 == 0:\n",
    "            self.num = self.num / 2\n",
    "        else:\n",
    "            self.num = (self.num * 3) + 1\n",
    "            \n",
    "        Coll.count += 1\n",
    "        \n",
    "        return self.num\n",
    "\n",
    "    def status(self):\n",
    "        return Coll.count\n",
    "        \n",
    "\n",
    "def collatz(n):\n",
    "    result = Coll(n)\n",
    "    while result.Cal() > 1:\n",
    "\n",
    "        if result.status() > 500:\n",
    "            return -1\n",
    "\n",
    "    return result.status()\n",
    "\n",
    "print(collatz(16))"
   ]
  },
  {
   "cell_type": "code",
   "execution_count": 4,
   "metadata": {},
   "outputs": [
    {
     "name": "stdout",
     "output_type": "stream",
     "text": [
      "[3, 3, 5, 5, 6, 6, 7, 7, 13, 13, 21, 21, 100]\n",
      "[3, 3, 5, 5, 6, 6, 7, 7, 13, 13, 21, 21, 100]\n",
      "[5, 5, 6, 6, 7, 7, 13, 13, 21, 21, 100]\n",
      "[5, 5, 7, 7, 13, 13, 21, 21, 100]\n",
      "[5, 5, 7, 7, 21, 21, 100]\n"
     ]
    },
    {
     "ename": "IndexError",
     "evalue": "list index out of range",
     "output_type": "error",
     "traceback": [
      "\u001b[1;31m---------------------------------------------------------------------------\u001b[0m",
      "\u001b[1;31mIndexError\u001b[0m                                Traceback (most recent call last)",
      "Cell \u001b[1;32mIn[4], line 11\u001b[0m\n\u001b[0;32m      6\u001b[0m \u001b[39m# del par_sort[-1]\u001b[39;00m\n\u001b[0;32m      7\u001b[0m \u001b[39m# print(par_sort)\u001b[39;00m\n\u001b[0;32m     10\u001b[0m \u001b[39mfor\u001b[39;00m i \u001b[39min\u001b[39;00m \u001b[39mrange\u001b[39m(\u001b[39mlen\u001b[39m(participants)):\n\u001b[1;32m---> 11\u001b[0m     \u001b[39mif\u001b[39;00m par_sort[i\u001b[39m-\u001b[39m\u001b[39m1\u001b[39m] \u001b[39m==\u001b[39m par_sort[i]:\n\u001b[0;32m     12\u001b[0m         \u001b[39mdel\u001b[39;00m par_sort[i]\n\u001b[0;32m     13\u001b[0m         \u001b[39mdel\u001b[39;00m par_sort[i\u001b[39m-\u001b[39m\u001b[39m1\u001b[39m]\n",
      "\u001b[1;31mIndexError\u001b[0m: list index out of range"
     ]
    }
   ],
   "source": [
    "# 실습 8-1\n",
    "participants =  [3, 7, 100, 21, 13, 6, 5, 7, 5, 6, 3, 13, 21]\n",
    "\n",
    "par_sort = sorted(participants)\n",
    "print(par_sort)\n",
    "# del par_sort[-1]\n",
    "# print(par_sort)\n",
    "\n",
    "\n",
    "for i in range(len(participants)):\n",
    "    if par_sort[i-1] == par_sort[i]:\n",
    "        del par_sort[i]\n",
    "        del par_sort[i-1]\n",
    "    else:\n",
    "        print(par_sort)\n",
    "\n",
    "# 승현풀이\n",
    "participants =  [3, 7, 100, 21, 13, 6, 5, 7, 5, 6, 3, 13, 21]\n",
    "temp_list = []\n",
    "\n",
    "len_parti = len(participants)\n",
    "\n",
    "for x in range(len_parti):\n",
    "    for y in range(x + 1, len_parti):\n",
    "        if participants[x] == participants[y]:\n",
    "            temp_list.append(participants[x])\n",
    "\n",
    "a_sub_b = [x for x in participants if x not in temp_list]\n",
    "\n",
    "print(a_sub_b)"
   ]
  },
  {
   "cell_type": "code",
   "execution_count": 16,
   "metadata": {},
   "outputs": [
    {
     "name": "stdout",
     "output_type": "stream",
     "text": [
      "Mark 20\n",
      "Rohan 31\n",
      "False\n",
      "False\n"
     ]
    }
   ],
   "source": [
    "# 실습 8-2\n",
    "from datetime import date\n",
    "\n",
    "class Person:\n",
    "    def __init__(self, name, age):\n",
    "        self.name = name\n",
    "        self.age = age\n",
    "\n",
    "    @classmethod\n",
    "    def get_age(cls, name, year):\n",
    "        # 새로운 Person 객체를 만들어서 리턴\n",
    "        return cls(name, date.today().year - year)\n",
    "        # print(date.today().year - year)\n",
    "\n",
    "    def check_age(self):\n",
    "        if self.age > 19:\n",
    "            return False\n",
    "        else:\n",
    "            return True        \n",
    "\n",
    "#Driver's code\n",
    "person1 = Person('Mark', 20)\n",
    "person2 = Person.get_age('Rohan', 1992)\n",
    "\n",
    "print(person1.name, person1.age) \n",
    "print(person2.name, person2.age)\n",
    "print(person1.check_age())\n",
    "print(person2.check_age())"
   ]
  },
  {
   "cell_type": "code",
   "execution_count": 12,
   "metadata": {},
   "outputs": [
    {
     "name": "stdout",
     "output_type": "stream",
     "text": [
      "4\n",
      "8\n",
      "True\n",
      "9\n",
      "12\n",
      "True\n"
     ]
    }
   ],
   "source": [
    "# 1/31(화) 과제 8-2\n",
    "\n",
    "# Point 클래스와 Rectangle 클래스에 대한 명세 및 실행 예시를 참조하여 클래스를 구현하시오.\n",
    "class Point:\n",
    "    # 생성자 메서드 (x좌표, y좌표)\n",
    "    def __init__(self, x, y):\n",
    "        # 인스턴스 변수\n",
    "        self.x = x\n",
    "        self.y = y\n",
    "\n",
    "    # 부모 클래스에서 x,y 좌표 정보를 받아내기 위해 get_status 함수를 정의\n",
    "    def get_status(self):\n",
    "        return self.x, self.y\n",
    "\n",
    "# Rectangle 클래스의 타입 : Point 클래스의 인스턴스\n",
    "class Rectangle(Point):\n",
    "    # 클래스 변수\n",
    "    x_length = 0\n",
    "    y_length = 0\n",
    "    \n",
    "    def __init__(self, point1, point2):\n",
    "        # 인스턴스 초기값 설정\n",
    "        self.point1 = point1\n",
    "        self.point2 = point2\n",
    "\n",
    "        # print(type(self.point1))    # self.point1 타입 : <class 'point'>\n",
    "        # int는 정수형이라 abs로 절대값 설정\n",
    "        Rectangle.x_length = abs(self.point1.get_status()[0] - self.point2.get_status()[0])\n",
    "        Rectangle.y_length = abs(self.point1.get_status()[1] - self.point2.get_status()[1])\n",
    "    \n",
    "    # 넓이 구하기\n",
    "    def get_area(self):\n",
    "        return Rectangle.x_length * Rectangle.y_length\n",
    "    \n",
    "    # 둘레 구하기\n",
    "    def get_perimeter(self):\n",
    "        return 2 * (Rectangle.x_length + Rectangle.y_length)\n",
    "\n",
    "    # 정사각형 인지 판단하기\n",
    "    def is_square(self):\n",
    "        if Rectangle.x_length == Rectangle.y_length:\n",
    "            return True\n",
    "        else:\n",
    "            return False\n",
    "\n",
    "\n",
    "\n",
    "\n",
    "\n",
    "\n",
    "\n",
    "\n",
    "\n",
    "\n",
    "\n",
    "\n",
    "# 입력 예시\n",
    "# 인스턴스 생성\n",
    "p1 = Point(1, 3)\n",
    "p2 = Point(3, 1)\n",
    "r1 = Rectangle(p1, p2)\n",
    "print(r1.get_area())\n",
    "print(r1.get_perimeter())\n",
    "print(r1.is_square())\n",
    "\n",
    "p3 = Point(3, 7)\n",
    "p4 = Point(6, 4)\n",
    "r2 = Rectangle(p3, p4)\n",
    "print(r2.get_area())\n",
    "print(r2.get_perimeter())\n",
    "print(r2.is_square())\n",
    "\n",
    "# 출력 예시\n",
    "# 4\n",
    "# 8\n",
    "# True\n",
    "\n",
    "# 9\n",
    "# 12\n",
    "# True"
   ]
  },
  {
   "cell_type": "code",
   "execution_count": 1,
   "metadata": {},
   "outputs": [
    {
     "name": "stdout",
     "output_type": "stream",
     "text": [
      "4\n",
      "8\n",
      "True\n",
      "9\n",
      "12\n",
      "True\n"
     ]
    }
   ],
   "source": [
    "# 1/31(화) 과제 8-2 승현풀이\n",
    "class Point:\n",
    "    def __init__(self, x, y):\n",
    "        self.x = x\n",
    "        self.y = y\n",
    "\n",
    "    def get_status(self):\n",
    "        return [self.x, self.y]\n",
    "    \n",
    "class Rectangle(Point):\n",
    "    x_length = 0\n",
    "    y_length = 0\n",
    "\n",
    "    def __init__(self, point1, point2):\n",
    "        self.point1 = point1\n",
    "        self.point2 = point2\n",
    "\n",
    "        Rectangle.x_length = abs(self.point1.get_status()[0] - self.point2.get_status()[0])\n",
    "        Rectangle.y_length = abs(self.point1.get_status()[1] - self.point2.get_status()[1])\n",
    "\n",
    "    def get_area(self):\n",
    "        return  Rectangle.x_length * Rectangle.y_length\n",
    "        # 넓이 구하기\n",
    "        \n",
    "    def get_perimeter(self):\n",
    "        return 2 * (Rectangle.x_length + Rectangle.y_length)\n",
    "        # 둘레 구하기\n",
    "\n",
    "    def is_square(self):\n",
    "        if Rectangle.x_length == Rectangle.y_length:\n",
    "            return True\n",
    "        else:\n",
    "            return False\n",
    "        # 정사각형인지 구하기\n",
    "\n",
    "\n",
    "p1 = Point(1, 3)\n",
    "p2 = Point(3, 1)\n",
    "r1 = Rectangle(p1, p2)\n",
    "\n",
    "print(r1.get_area())\n",
    "print(r1.get_perimeter())\n",
    "print(r1.is_square())\n",
    "\n",
    "p3 = Point(3, 7)\n",
    "p4 = Point(6, 4)\n",
    "r2 = Rectangle(p3, p4)\n",
    "print(r2.get_area())\n",
    "print(r2.get_perimeter())\n",
    "print(r2.is_square())"
   ]
  }
 ],
 "metadata": {
  "kernelspec": {
   "display_name": "Python 3",
   "language": "python",
   "name": "python3"
  },
  "language_info": {
   "codemirror_mode": {
    "name": "ipython",
    "version": 3
   },
   "file_extension": ".py",
   "mimetype": "text/x-python",
   "name": "python",
   "nbconvert_exporter": "python",
   "pygments_lexer": "ipython3",
   "version": "3.9.12"
  },
  "orig_nbformat": 4,
  "vscode": {
   "interpreter": {
    "hash": "c4b9ebf4ca459396e2ad1150752490c26670c1a037c08cad955a4425787bec2e"
   }
  }
 },
 "nbformat": 4,
 "nbformat_minor": 2
}
