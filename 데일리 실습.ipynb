{
 "cells": [
  {
   "cell_type": "code",
   "execution_count": 2,
   "metadata": {},
   "outputs": [
    {
     "name": "stdout",
     "output_type": "stream",
     "text": [
      "6\n"
     ]
    }
   ],
   "source": [
    "# 실습 1-2\n",
    "board = input(\"게시글의 총 갯수를 입력하세요:\")\n",
    "board2 = input(\"한 페이지에 필요한 게시글 수를 입력하세요:\")\n",
    "\n",
    "\n",
    "a, b = divmod(int(board),int(board2))\n",
    "\n",
    "if b > 0:\n",
    "    a = a+1\n",
    "    \n",
    "print(a)"
   ]
  },
  {
   "cell_type": "code",
   "execution_count": 8,
   "metadata": {},
   "outputs": [
    {
     "name": "stdout",
     "output_type": "stream",
     "text": [
      "# 김코딩\n",
      "\n",
      "# 이싸피\n"
     ]
    }
   ],
   "source": [
    "# 실습 1-3\n",
    "person1 = input()\n",
    "person2 = input()\n",
    "print(f\"# {person1}\\n\\n# {person2}\")"
   ]
  },
  {
   "cell_type": "code",
   "execution_count": 10,
   "metadata": {},
   "outputs": [
    {
     "name": "stdout",
     "output_type": "stream",
     "text": [
      "27\n"
     ]
    }
   ],
   "source": [
    "# 실습 1-4\n",
    "    # 1000 미만\n",
    "result = 0\n",
    "for i in range(1, 1000):\n",
    "    if i % 2 == 0 or i % 7 == 0:\n",
    "        result += i\n",
    "print(result)\n",
    "\n",
    "    # 10 미만\n",
    "result = 0\n",
    "for i in range(1, 10):\n",
    "    if i % 2 == 0 or i % 7 == 0:\n",
    "        result += i\n",
    "print(result)"
   ]
  },
  {
   "cell_type": "code",
   "execution_count": 16,
   "metadata": {},
   "outputs": [
    {
     "name": "stdout",
     "output_type": "stream",
     "text": [
      "****\n",
      "****\n",
      "****\n",
      "****\n",
      "****\n"
     ]
    }
   ],
   "source": [
    "# 실습 1-5\n",
    "m = 5\n",
    "n = 4\n",
    "\n",
    "for s in range(0,m):\n",
    "    print(\"*\"*n)\n"
   ]
  },
  {
   "cell_type": "code",
   "execution_count": 40,
   "metadata": {},
   "outputs": [
    {
     "name": "stdout",
     "output_type": "stream",
     "text": [
      "['python', 'django', 'web', 'algorithm']\n",
      "dict_keys(['python', 'django', 'web', 'algorithm'])\n",
      "[85, 89, 83, 90]\n",
      "dict_values([85, 89, 83, 90])\n"
     ]
    }
   ],
   "source": [
    "# 1/16(월) 과제1\n",
    "score = {\n",
    "    'python': 80,\n",
    "    'django': 89,\n",
    "    'web': 83\n",
    "}\n",
    "\n",
    "score[\"algorithm\"] = 80\n",
    "score[\"python\"] = 85\n",
    "\n",
    "print(sum(score.values())/len(score))\n",
    "\n",
    "    # 딕셔너리 key:value 각각 추출하는 연습\n",
    "# my_subject = list(score)\n",
    "# my_subjects = score.keys()\n",
    "# my_score = list(score.values())\n",
    "# my_scores = score.values()\n",
    "\n",
    "\n",
    "# print(my_subject)\n",
    "# print(my_subjects)\n",
    "# print(my_score)\n",
    "# print(my_scores)"
   ]
  },
  {
   "cell_type": "code",
   "execution_count": 52,
   "metadata": {},
   "outputs": [
    {
     "name": "stdout",
     "output_type": "stream",
     "text": [
      "6\n"
     ]
    }
   ],
   "source": [
    "# 1/16(월) 과제2\n",
    "s = input('숫자를 입력해주세요 : ')\n",
    "\n",
    "# result = 0   \n",
    "# for i in s:\n",
    "#     result += int(i)\n",
    "\n",
    "# print(result)\n",
    "\n",
    "\n",
    "number = list(s)\n",
    "length = len(s)\n",
    "\n",
    "ans = 0\n",
    "\n",
    "for i in range(0, length):\n",
    "    ans += int(number[i])\n",
    "\n",
    "print(ans)       "
   ]
  },
  {
   "cell_type": "code",
   "execution_count": null,
   "metadata": {},
   "outputs": [],
   "source": []
  }
 ],
 "metadata": {
  "kernelspec": {
   "display_name": "Python 3",
   "language": "python",
   "name": "python3"
  },
  "language_info": {
   "codemirror_mode": {
    "name": "ipython",
    "version": 3
   },
   "file_extension": ".py",
   "mimetype": "text/x-python",
   "name": "python",
   "nbconvert_exporter": "python",
   "pygments_lexer": "ipython3",
   "version": "3.9.12 (tags/v3.9.12:b28265d, Mar 23 2022, 23:52:46) [MSC v.1929 64 bit (AMD64)]"
  },
  "orig_nbformat": 4,
  "vscode": {
   "interpreter": {
    "hash": "c4b9ebf4ca459396e2ad1150752490c26670c1a037c08cad955a4425787bec2e"
   }
  }
 },
 "nbformat": 4,
 "nbformat_minor": 2
}
